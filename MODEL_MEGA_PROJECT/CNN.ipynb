{
  "cells": [
    {
      "cell_type": "code",
      "execution_count": 2,
      "metadata": {
        "colab": {
          "base_uri": "https://localhost:8080/"
        },
        "execution": {
          "iopub.execute_input": "2023-04-14T10:59:48.154969Z",
          "iopub.status.busy": "2023-04-14T10:59:48.154504Z",
          "iopub.status.idle": "2023-04-14T11:00:00.894665Z",
          "shell.execute_reply": "2023-04-14T11:00:00.892995Z",
          "shell.execute_reply.started": "2023-04-14T10:59:48.154937Z"
        },
        "id": "YDmYu3f8alp2",
        "outputId": "e1823546-c4cc-434f-f7af-9afddb4fedac",
        "trusted": true
      },
      "outputs": [
        {
          "output_type": "stream",
          "name": "stdout",
          "text": [
            "Requirement already satisfied: contractions in /usr/local/lib/python3.11/dist-packages (0.1.73)\n",
            "Requirement already satisfied: textsearch>=0.0.21 in /usr/local/lib/python3.11/dist-packages (from contractions) (0.0.24)\n",
            "Requirement already satisfied: anyascii in /usr/local/lib/python3.11/dist-packages (from textsearch>=0.0.21->contractions) (0.3.2)\n",
            "Requirement already satisfied: pyahocorasick in /usr/local/lib/python3.11/dist-packages (from textsearch>=0.0.21->contractions) (2.1.0)\n"
          ]
        }
      ],
      "source": [
        "# Install the 'contractions' library, which is used to expand contractions in English text (e.g., \"don't\" → \"do not\")\n",
        "!pip install contractions\n"
      ]
    },
    {
      "cell_type": "code",
      "execution_count": 3,
      "metadata": {
        "id": "sijvVtl6mMWr"
      },
      "outputs": [],
      "source": [
        "import warnings\n",
        "warnings.filterwarnings('ignore')"
      ]
    },
    {
      "cell_type": "code",
      "source": [
        "!pip install tensorflow\n"
      ],
      "metadata": {
        "colab": {
          "base_uri": "https://localhost:8080/"
        },
        "id": "CqEJH0kQKRDj",
        "outputId": "6cc3036c-d265-4d1e-fabf-40bfc86dbb5f"
      },
      "execution_count": 4,
      "outputs": [
        {
          "output_type": "stream",
          "name": "stdout",
          "text": [
            "Collecting tensorflow\n",
            "  Downloading tensorflow-2.19.0-cp311-cp311-manylinux_2_17_x86_64.manylinux2014_x86_64.whl.metadata (4.1 kB)\n",
            "Requirement already satisfied: absl-py>=1.0.0 in /usr/local/lib/python3.11/dist-packages (from tensorflow) (1.4.0)\n",
            "Collecting astunparse>=1.6.0 (from tensorflow)\n",
            "  Downloading astunparse-1.6.3-py2.py3-none-any.whl.metadata (4.4 kB)\n",
            "Collecting flatbuffers>=24.3.25 (from tensorflow)\n",
            "  Downloading flatbuffers-25.2.10-py2.py3-none-any.whl.metadata (875 bytes)\n",
            "Requirement already satisfied: gast!=0.5.0,!=0.5.1,!=0.5.2,>=0.2.1 in /usr/local/lib/python3.11/dist-packages (from tensorflow) (0.6.0)\n",
            "Collecting google-pasta>=0.1.1 (from tensorflow)\n",
            "  Downloading google_pasta-0.2.0-py3-none-any.whl.metadata (814 bytes)\n",
            "Collecting libclang>=13.0.0 (from tensorflow)\n",
            "  Downloading libclang-18.1.1-py2.py3-none-manylinux2010_x86_64.whl.metadata (5.2 kB)\n",
            "Requirement already satisfied: opt-einsum>=2.3.2 in /usr/local/lib/python3.11/dist-packages (from tensorflow) (3.4.0)\n",
            "Requirement already satisfied: packaging in /usr/local/lib/python3.11/dist-packages (from tensorflow) (25.0)\n",
            "Requirement already satisfied: protobuf!=4.21.0,!=4.21.1,!=4.21.2,!=4.21.3,!=4.21.4,!=4.21.5,<6.0.0dev,>=3.20.3 in /usr/local/lib/python3.11/dist-packages (from tensorflow) (5.29.4)\n",
            "Requirement already satisfied: requests<3,>=2.21.0 in /usr/local/lib/python3.11/dist-packages (from tensorflow) (2.32.3)\n",
            "Requirement already satisfied: setuptools in /usr/local/lib/python3.11/dist-packages (from tensorflow) (75.2.0)\n",
            "Requirement already satisfied: six>=1.12.0 in /usr/local/lib/python3.11/dist-packages (from tensorflow) (1.17.0)\n",
            "Requirement already satisfied: termcolor>=1.1.0 in /usr/local/lib/python3.11/dist-packages (from tensorflow) (3.0.1)\n",
            "Requirement already satisfied: typing-extensions>=3.6.6 in /usr/local/lib/python3.11/dist-packages (from tensorflow) (4.13.2)\n",
            "Requirement already satisfied: wrapt>=1.11.0 in /usr/local/lib/python3.11/dist-packages (from tensorflow) (1.17.2)\n",
            "Requirement already satisfied: grpcio<2.0,>=1.24.3 in /usr/local/lib/python3.11/dist-packages (from tensorflow) (1.71.0)\n",
            "Collecting tensorboard~=2.19.0 (from tensorflow)\n",
            "  Downloading tensorboard-2.19.0-py3-none-any.whl.metadata (1.8 kB)\n",
            "Requirement already satisfied: keras>=3.5.0 in /usr/local/lib/python3.11/dist-packages (from tensorflow) (3.8.0)\n",
            "Requirement already satisfied: numpy<2.2.0,>=1.26.0 in /usr/local/lib/python3.11/dist-packages (from tensorflow) (2.0.2)\n",
            "Requirement already satisfied: h5py>=3.11.0 in /usr/local/lib/python3.11/dist-packages (from tensorflow) (3.13.0)\n",
            "Requirement already satisfied: ml-dtypes<1.0.0,>=0.5.1 in /usr/local/lib/python3.11/dist-packages (from tensorflow) (0.5.1)\n",
            "Collecting tensorflow-io-gcs-filesystem>=0.23.1 (from tensorflow)\n",
            "  Downloading tensorflow_io_gcs_filesystem-0.37.1-cp311-cp311-manylinux_2_17_x86_64.manylinux2014_x86_64.whl.metadata (14 kB)\n",
            "Collecting wheel<1.0,>=0.23.0 (from astunparse>=1.6.0->tensorflow)\n",
            "  Downloading wheel-0.45.1-py3-none-any.whl.metadata (2.3 kB)\n",
            "Requirement already satisfied: rich in /usr/local/lib/python3.11/dist-packages (from keras>=3.5.0->tensorflow) (14.0.0)\n",
            "Requirement already satisfied: namex in /usr/local/lib/python3.11/dist-packages (from keras>=3.5.0->tensorflow) (0.0.9)\n",
            "Requirement already satisfied: optree in /usr/local/lib/python3.11/dist-packages (from keras>=3.5.0->tensorflow) (0.15.0)\n",
            "Requirement already satisfied: charset-normalizer<4,>=2 in /usr/local/lib/python3.11/dist-packages (from requests<3,>=2.21.0->tensorflow) (3.4.1)\n",
            "Requirement already satisfied: idna<4,>=2.5 in /usr/local/lib/python3.11/dist-packages (from requests<3,>=2.21.0->tensorflow) (3.10)\n",
            "Requirement already satisfied: urllib3<3,>=1.21.1 in /usr/local/lib/python3.11/dist-packages (from requests<3,>=2.21.0->tensorflow) (2.4.0)\n",
            "Requirement already satisfied: certifi>=2017.4.17 in /usr/local/lib/python3.11/dist-packages (from requests<3,>=2.21.0->tensorflow) (2025.1.31)\n",
            "Requirement already satisfied: markdown>=2.6.8 in /usr/lib/python3/dist-packages (from tensorboard~=2.19.0->tensorflow) (3.3.6)\n",
            "Collecting tensorboard-data-server<0.8.0,>=0.7.0 (from tensorboard~=2.19.0->tensorflow)\n",
            "  Downloading tensorboard_data_server-0.7.2-py3-none-manylinux_2_31_x86_64.whl.metadata (1.1 kB)\n",
            "Collecting werkzeug>=1.0.1 (from tensorboard~=2.19.0->tensorflow)\n",
            "  Downloading werkzeug-3.1.3-py3-none-any.whl.metadata (3.7 kB)\n",
            "Requirement already satisfied: MarkupSafe>=2.1.1 in /usr/local/lib/python3.11/dist-packages (from werkzeug>=1.0.1->tensorboard~=2.19.0->tensorflow) (3.0.2)\n",
            "Requirement already satisfied: markdown-it-py>=2.2.0 in /usr/local/lib/python3.11/dist-packages (from rich->keras>=3.5.0->tensorflow) (3.0.0)\n",
            "Requirement already satisfied: pygments<3.0.0,>=2.13.0 in /usr/local/lib/python3.11/dist-packages (from rich->keras>=3.5.0->tensorflow) (2.19.1)\n",
            "Requirement already satisfied: mdurl~=0.1 in /usr/local/lib/python3.11/dist-packages (from markdown-it-py>=2.2.0->rich->keras>=3.5.0->tensorflow) (0.1.2)\n",
            "Downloading tensorflow-2.19.0-cp311-cp311-manylinux_2_17_x86_64.manylinux2014_x86_64.whl (644.9 MB)\n",
            "\u001b[2K   \u001b[90m━━━━━━━━━━━━━━━━━━━━━━━━━━━━━━━━━━━━━━━━\u001b[0m \u001b[32m644.9/644.9 MB\u001b[0m \u001b[31m1.7 MB/s\u001b[0m eta \u001b[36m0:00:00\u001b[0m\n",
            "\u001b[?25hDownloading astunparse-1.6.3-py2.py3-none-any.whl (12 kB)\n",
            "Downloading flatbuffers-25.2.10-py2.py3-none-any.whl (30 kB)\n",
            "Downloading google_pasta-0.2.0-py3-none-any.whl (57 kB)\n",
            "\u001b[2K   \u001b[90m━━━━━━━━━━━━━━━━━━━━━━━━━━━━━━━━━━━━━━━━\u001b[0m \u001b[32m57.5/57.5 kB\u001b[0m \u001b[31m4.3 MB/s\u001b[0m eta \u001b[36m0:00:00\u001b[0m\n",
            "\u001b[?25hDownloading libclang-18.1.1-py2.py3-none-manylinux2010_x86_64.whl (24.5 MB)\n",
            "\u001b[2K   \u001b[90m━━━━━━━━━━━━━━━━━━━━━━━━━━━━━━━━━━━━━━━━\u001b[0m \u001b[32m24.5/24.5 MB\u001b[0m \u001b[31m83.6 MB/s\u001b[0m eta \u001b[36m0:00:00\u001b[0m\n",
            "\u001b[?25hDownloading tensorboard-2.19.0-py3-none-any.whl (5.5 MB)\n",
            "\u001b[2K   \u001b[90m━━━━━━━━━━━━━━━━━━━━━━━━━━━━━━━━━━━━━━━━\u001b[0m \u001b[32m5.5/5.5 MB\u001b[0m \u001b[31m119.6 MB/s\u001b[0m eta \u001b[36m0:00:00\u001b[0m\n",
            "\u001b[?25hDownloading tensorflow_io_gcs_filesystem-0.37.1-cp311-cp311-manylinux_2_17_x86_64.manylinux2014_x86_64.whl (5.1 MB)\n",
            "\u001b[2K   \u001b[90m━━━━━━━━━━━━━━━━━━━━━━━━━━━━━━━━━━━━━━━━\u001b[0m \u001b[32m5.1/5.1 MB\u001b[0m \u001b[31m115.1 MB/s\u001b[0m eta \u001b[36m0:00:00\u001b[0m\n",
            "\u001b[?25hDownloading tensorboard_data_server-0.7.2-py3-none-manylinux_2_31_x86_64.whl (6.6 MB)\n",
            "\u001b[2K   \u001b[90m━━━━━━━━━━━━━━━━━━━━━━━━━━━━━━━━━━━━━━━━\u001b[0m \u001b[32m6.6/6.6 MB\u001b[0m \u001b[31m125.0 MB/s\u001b[0m eta \u001b[36m0:00:00\u001b[0m\n",
            "\u001b[?25hDownloading werkzeug-3.1.3-py3-none-any.whl (224 kB)\n",
            "\u001b[2K   \u001b[90m━━━━━━━━━━━━━━━━━━━━━━━━━━━━━━━━━━━━━━━━\u001b[0m \u001b[32m224.5/224.5 kB\u001b[0m \u001b[31m17.8 MB/s\u001b[0m eta \u001b[36m0:00:00\u001b[0m\n",
            "\u001b[?25hDownloading wheel-0.45.1-py3-none-any.whl (72 kB)\n",
            "\u001b[2K   \u001b[90m━━━━━━━━━━━━━━━━━━━━━━━━━━━━━━━━━━━━━━━━\u001b[0m \u001b[32m72.5/72.5 kB\u001b[0m \u001b[31m5.7 MB/s\u001b[0m eta \u001b[36m0:00:00\u001b[0m\n",
            "\u001b[?25hInstalling collected packages: libclang, flatbuffers, wheel, werkzeug, tensorflow-io-gcs-filesystem, tensorboard-data-server, google-pasta, tensorboard, astunparse, tensorflow\n",
            "Successfully installed astunparse-1.6.3 flatbuffers-25.2.10 google-pasta-0.2.0 libclang-18.1.1 tensorboard-2.19.0 tensorboard-data-server-0.7.2 tensorflow-2.19.0 tensorflow-io-gcs-filesystem-0.37.1 werkzeug-3.1.3 wheel-0.45.1\n"
          ]
        }
      ]
    },
    {
      "cell_type": "code",
      "execution_count": 5,
      "metadata": {
        "execution": {
          "iopub.execute_input": "2023-04-14T11:00:00.898998Z",
          "iopub.status.busy": "2023-04-14T11:00:00.897789Z",
          "iopub.status.idle": "2023-04-14T11:00:00.968307Z",
          "shell.execute_reply": "2023-04-14T11:00:00.965918Z",
          "shell.execute_reply.started": "2023-04-14T11:00:00.898951Z"
        },
        "id": "nRbHHeWaalp9",
        "trusted": true
      },
      "outputs": [],
      "source": [
        "import pandas as pd\n",
        "import seaborn as sns\n",
        "import matplotlib.pyplot as plt\n",
        "\n",
        "from sklearn.utils import resample\n",
        "\n",
        "\n",
        "import tensorflow as tf\n",
        "from tensorflow.keras.preprocessing.text import Tokenizer\n",
        "from tensorflow.keras.models import Sequential\n",
        "from tensorflow.keras.layers import Dense, Embedding, Dropout\n",
        "from tensorflow.keras.layers import Conv1D, MaxPooling1D, GlobalMaxPooling1D\n",
        "from tensorflow.keras.utils import to_categorical\n"
      ]
    },
    {
      "cell_type": "code",
      "execution_count": 6,
      "metadata": {
        "colab": {
          "base_uri": "https://localhost:8080/"
        },
        "id": "wrEegvTOmRyq",
        "outputId": "a6eff86b-673a-4327-d42a-3795013d027c"
      },
      "outputs": [
        {
          "output_type": "stream",
          "name": "stdout",
          "text": [
            "<class 'pandas.core.frame.DataFrame'>\n",
            "RangeIndex: 21460 entries, 0 to 21459\n",
            "Data columns (total 2 columns):\n",
            " #   Column     Non-Null Count  Dtype \n",
            "---  ------     --------------  ----- \n",
            " 0   Sentence   21460 non-null  object\n",
            " 1   Sentiment  21460 non-null  object\n",
            "dtypes: object(2)\n",
            "memory usage: 335.4+ KB\n"
          ]
        }
      ],
      "source": [
        "\n",
        "df = pd.read_csv('Emotion_final.csv', delimiter=',', encoding='latin-1', header=None)\n",
        "df = df.rename(columns=lambda x: ['Sentence', 'Sentiment'][x])\n",
        "df.info()"
      ]
    },
    {
      "cell_type": "code",
      "execution_count": 7,
      "metadata": {
        "id": "hto0NAfLb6Vu"
      },
      "outputs": [],
      "source": [
        "df = df.drop(index=0).reset_index(drop=True)"
      ]
    },
    {
      "cell_type": "code",
      "execution_count": 8,
      "metadata": {
        "colab": {
          "base_uri": "https://localhost:8080/",
          "height": 206
        },
        "execution": {
          "iopub.execute_input": "2023-04-14T11:00:00.970866Z",
          "iopub.status.busy": "2023-04-14T11:00:00.970485Z",
          "iopub.status.idle": "2023-04-14T11:00:01.001142Z",
          "shell.execute_reply": "2023-04-14T11:00:00.999264Z",
          "shell.execute_reply.started": "2023-04-14T11:00:00.97083Z"
        },
        "id": "rpfmlzDTalp_",
        "outputId": "8d530594-1582-4c84-cdbf-38cca9497cde",
        "trusted": true
      },
      "outputs": [
        {
          "output_type": "execute_result",
          "data": {
            "text/plain": [
              "                                            Sentence Sentiment\n",
              "0                            i didnt feel humiliated   sadness\n",
              "1  i can go from feeling so hopeless to so damned...   sadness\n",
              "2   im grabbing a minute to post i feel greedy wrong     anger\n",
              "3  i am ever feeling nostalgic about the fireplac...      love\n",
              "4                               i am feeling grouchy     anger"
            ],
            "text/html": [
              "\n",
              "  <div id=\"df-54783d70-8641-4848-8c7d-0b1734e51855\" class=\"colab-df-container\">\n",
              "    <div>\n",
              "<style scoped>\n",
              "    .dataframe tbody tr th:only-of-type {\n",
              "        vertical-align: middle;\n",
              "    }\n",
              "\n",
              "    .dataframe tbody tr th {\n",
              "        vertical-align: top;\n",
              "    }\n",
              "\n",
              "    .dataframe thead th {\n",
              "        text-align: right;\n",
              "    }\n",
              "</style>\n",
              "<table border=\"1\" class=\"dataframe\">\n",
              "  <thead>\n",
              "    <tr style=\"text-align: right;\">\n",
              "      <th></th>\n",
              "      <th>Sentence</th>\n",
              "      <th>Sentiment</th>\n",
              "    </tr>\n",
              "  </thead>\n",
              "  <tbody>\n",
              "    <tr>\n",
              "      <th>0</th>\n",
              "      <td>i didnt feel humiliated</td>\n",
              "      <td>sadness</td>\n",
              "    </tr>\n",
              "    <tr>\n",
              "      <th>1</th>\n",
              "      <td>i can go from feeling so hopeless to so damned...</td>\n",
              "      <td>sadness</td>\n",
              "    </tr>\n",
              "    <tr>\n",
              "      <th>2</th>\n",
              "      <td>im grabbing a minute to post i feel greedy wrong</td>\n",
              "      <td>anger</td>\n",
              "    </tr>\n",
              "    <tr>\n",
              "      <th>3</th>\n",
              "      <td>i am ever feeling nostalgic about the fireplac...</td>\n",
              "      <td>love</td>\n",
              "    </tr>\n",
              "    <tr>\n",
              "      <th>4</th>\n",
              "      <td>i am feeling grouchy</td>\n",
              "      <td>anger</td>\n",
              "    </tr>\n",
              "  </tbody>\n",
              "</table>\n",
              "</div>\n",
              "    <div class=\"colab-df-buttons\">\n",
              "\n",
              "  <div class=\"colab-df-container\">\n",
              "    <button class=\"colab-df-convert\" onclick=\"convertToInteractive('df-54783d70-8641-4848-8c7d-0b1734e51855')\"\n",
              "            title=\"Convert this dataframe to an interactive table.\"\n",
              "            style=\"display:none;\">\n",
              "\n",
              "  <svg xmlns=\"http://www.w3.org/2000/svg\" height=\"24px\" viewBox=\"0 -960 960 960\">\n",
              "    <path d=\"M120-120v-720h720v720H120Zm60-500h600v-160H180v160Zm220 220h160v-160H400v160Zm0 220h160v-160H400v160ZM180-400h160v-160H180v160Zm440 0h160v-160H620v160ZM180-180h160v-160H180v160Zm440 0h160v-160H620v160Z\"/>\n",
              "  </svg>\n",
              "    </button>\n",
              "\n",
              "  <style>\n",
              "    .colab-df-container {\n",
              "      display:flex;\n",
              "      gap: 12px;\n",
              "    }\n",
              "\n",
              "    .colab-df-convert {\n",
              "      background-color: #E8F0FE;\n",
              "      border: none;\n",
              "      border-radius: 50%;\n",
              "      cursor: pointer;\n",
              "      display: none;\n",
              "      fill: #1967D2;\n",
              "      height: 32px;\n",
              "      padding: 0 0 0 0;\n",
              "      width: 32px;\n",
              "    }\n",
              "\n",
              "    .colab-df-convert:hover {\n",
              "      background-color: #E2EBFA;\n",
              "      box-shadow: 0px 1px 2px rgba(60, 64, 67, 0.3), 0px 1px 3px 1px rgba(60, 64, 67, 0.15);\n",
              "      fill: #174EA6;\n",
              "    }\n",
              "\n",
              "    .colab-df-buttons div {\n",
              "      margin-bottom: 4px;\n",
              "    }\n",
              "\n",
              "    [theme=dark] .colab-df-convert {\n",
              "      background-color: #3B4455;\n",
              "      fill: #D2E3FC;\n",
              "    }\n",
              "\n",
              "    [theme=dark] .colab-df-convert:hover {\n",
              "      background-color: #434B5C;\n",
              "      box-shadow: 0px 1px 3px 1px rgba(0, 0, 0, 0.15);\n",
              "      filter: drop-shadow(0px 1px 2px rgba(0, 0, 0, 0.3));\n",
              "      fill: #FFFFFF;\n",
              "    }\n",
              "  </style>\n",
              "\n",
              "    <script>\n",
              "      const buttonEl =\n",
              "        document.querySelector('#df-54783d70-8641-4848-8c7d-0b1734e51855 button.colab-df-convert');\n",
              "      buttonEl.style.display =\n",
              "        google.colab.kernel.accessAllowed ? 'block' : 'none';\n",
              "\n",
              "      async function convertToInteractive(key) {\n",
              "        const element = document.querySelector('#df-54783d70-8641-4848-8c7d-0b1734e51855');\n",
              "        const dataTable =\n",
              "          await google.colab.kernel.invokeFunction('convertToInteractive',\n",
              "                                                    [key], {});\n",
              "        if (!dataTable) return;\n",
              "\n",
              "        const docLinkHtml = 'Like what you see? Visit the ' +\n",
              "          '<a target=\"_blank\" href=https://colab.research.google.com/notebooks/data_table.ipynb>data table notebook</a>'\n",
              "          + ' to learn more about interactive tables.';\n",
              "        element.innerHTML = '';\n",
              "        dataTable['output_type'] = 'display_data';\n",
              "        await google.colab.output.renderOutput(dataTable, element);\n",
              "        const docLink = document.createElement('div');\n",
              "        docLink.innerHTML = docLinkHtml;\n",
              "        element.appendChild(docLink);\n",
              "      }\n",
              "    </script>\n",
              "  </div>\n",
              "\n",
              "\n",
              "    <div id=\"df-38520a8f-545b-4f4b-8cf6-704097c28fe2\">\n",
              "      <button class=\"colab-df-quickchart\" onclick=\"quickchart('df-38520a8f-545b-4f4b-8cf6-704097c28fe2')\"\n",
              "                title=\"Suggest charts\"\n",
              "                style=\"display:none;\">\n",
              "\n",
              "<svg xmlns=\"http://www.w3.org/2000/svg\" height=\"24px\"viewBox=\"0 0 24 24\"\n",
              "     width=\"24px\">\n",
              "    <g>\n",
              "        <path d=\"M19 3H5c-1.1 0-2 .9-2 2v14c0 1.1.9 2 2 2h14c1.1 0 2-.9 2-2V5c0-1.1-.9-2-2-2zM9 17H7v-7h2v7zm4 0h-2V7h2v10zm4 0h-2v-4h2v4z\"/>\n",
              "    </g>\n",
              "</svg>\n",
              "      </button>\n",
              "\n",
              "<style>\n",
              "  .colab-df-quickchart {\n",
              "      --bg-color: #E8F0FE;\n",
              "      --fill-color: #1967D2;\n",
              "      --hover-bg-color: #E2EBFA;\n",
              "      --hover-fill-color: #174EA6;\n",
              "      --disabled-fill-color: #AAA;\n",
              "      --disabled-bg-color: #DDD;\n",
              "  }\n",
              "\n",
              "  [theme=dark] .colab-df-quickchart {\n",
              "      --bg-color: #3B4455;\n",
              "      --fill-color: #D2E3FC;\n",
              "      --hover-bg-color: #434B5C;\n",
              "      --hover-fill-color: #FFFFFF;\n",
              "      --disabled-bg-color: #3B4455;\n",
              "      --disabled-fill-color: #666;\n",
              "  }\n",
              "\n",
              "  .colab-df-quickchart {\n",
              "    background-color: var(--bg-color);\n",
              "    border: none;\n",
              "    border-radius: 50%;\n",
              "    cursor: pointer;\n",
              "    display: none;\n",
              "    fill: var(--fill-color);\n",
              "    height: 32px;\n",
              "    padding: 0;\n",
              "    width: 32px;\n",
              "  }\n",
              "\n",
              "  .colab-df-quickchart:hover {\n",
              "    background-color: var(--hover-bg-color);\n",
              "    box-shadow: 0 1px 2px rgba(60, 64, 67, 0.3), 0 1px 3px 1px rgba(60, 64, 67, 0.15);\n",
              "    fill: var(--button-hover-fill-color);\n",
              "  }\n",
              "\n",
              "  .colab-df-quickchart-complete:disabled,\n",
              "  .colab-df-quickchart-complete:disabled:hover {\n",
              "    background-color: var(--disabled-bg-color);\n",
              "    fill: var(--disabled-fill-color);\n",
              "    box-shadow: none;\n",
              "  }\n",
              "\n",
              "  .colab-df-spinner {\n",
              "    border: 2px solid var(--fill-color);\n",
              "    border-color: transparent;\n",
              "    border-bottom-color: var(--fill-color);\n",
              "    animation:\n",
              "      spin 1s steps(1) infinite;\n",
              "  }\n",
              "\n",
              "  @keyframes spin {\n",
              "    0% {\n",
              "      border-color: transparent;\n",
              "      border-bottom-color: var(--fill-color);\n",
              "      border-left-color: var(--fill-color);\n",
              "    }\n",
              "    20% {\n",
              "      border-color: transparent;\n",
              "      border-left-color: var(--fill-color);\n",
              "      border-top-color: var(--fill-color);\n",
              "    }\n",
              "    30% {\n",
              "      border-color: transparent;\n",
              "      border-left-color: var(--fill-color);\n",
              "      border-top-color: var(--fill-color);\n",
              "      border-right-color: var(--fill-color);\n",
              "    }\n",
              "    40% {\n",
              "      border-color: transparent;\n",
              "      border-right-color: var(--fill-color);\n",
              "      border-top-color: var(--fill-color);\n",
              "    }\n",
              "    60% {\n",
              "      border-color: transparent;\n",
              "      border-right-color: var(--fill-color);\n",
              "    }\n",
              "    80% {\n",
              "      border-color: transparent;\n",
              "      border-right-color: var(--fill-color);\n",
              "      border-bottom-color: var(--fill-color);\n",
              "    }\n",
              "    90% {\n",
              "      border-color: transparent;\n",
              "      border-bottom-color: var(--fill-color);\n",
              "    }\n",
              "  }\n",
              "</style>\n",
              "\n",
              "      <script>\n",
              "        async function quickchart(key) {\n",
              "          const quickchartButtonEl =\n",
              "            document.querySelector('#' + key + ' button');\n",
              "          quickchartButtonEl.disabled = true;  // To prevent multiple clicks.\n",
              "          quickchartButtonEl.classList.add('colab-df-spinner');\n",
              "          try {\n",
              "            const charts = await google.colab.kernel.invokeFunction(\n",
              "                'suggestCharts', [key], {});\n",
              "          } catch (error) {\n",
              "            console.error('Error during call to suggestCharts:', error);\n",
              "          }\n",
              "          quickchartButtonEl.classList.remove('colab-df-spinner');\n",
              "          quickchartButtonEl.classList.add('colab-df-quickchart-complete');\n",
              "        }\n",
              "        (() => {\n",
              "          let quickchartButtonEl =\n",
              "            document.querySelector('#df-38520a8f-545b-4f4b-8cf6-704097c28fe2 button');\n",
              "          quickchartButtonEl.style.display =\n",
              "            google.colab.kernel.accessAllowed ? 'block' : 'none';\n",
              "        })();\n",
              "      </script>\n",
              "    </div>\n",
              "\n",
              "    </div>\n",
              "  </div>\n"
            ],
            "application/vnd.google.colaboratory.intrinsic+json": {
              "type": "dataframe",
              "variable_name": "df",
              "summary": "{\n  \"name\": \"df\",\n  \"rows\": 21459,\n  \"fields\": [\n    {\n      \"column\": \"Sentence\",\n      \"properties\": {\n        \"dtype\": \"string\",\n        \"num_unique_values\": 21405,\n        \"samples\": [\n          \"i feel like they are more boring to paint than a bunch of fruit\",\n          \"i feel as weird criticizing this game as much as i feel weird praising it\",\n          \"i also feel very nostalgic about all these highschool memories\"\n        ],\n        \"semantic_type\": \"\",\n        \"description\": \"\"\n      }\n    },\n    {\n      \"column\": \"Sentiment\",\n      \"properties\": {\n        \"dtype\": \"category\",\n        \"num_unique_values\": 6,\n        \"samples\": [\n          \"sadness\",\n          \"anger\",\n          \"happy\"\n        ],\n        \"semantic_type\": \"\",\n        \"description\": \"\"\n      }\n    }\n  ]\n}"
            }
          },
          "metadata": {},
          "execution_count": 8
        }
      ],
      "source": [
        "df = df[['Sentence', 'Sentiment']]\n",
        "df.head()"
      ]
    },
    {
      "cell_type": "code",
      "execution_count": 9,
      "metadata": {
        "colab": {
          "base_uri": "https://localhost:8080/"
        },
        "execution": {
          "iopub.execute_input": "2023-04-14T11:00:01.021158Z",
          "iopub.status.busy": "2023-04-14T11:00:01.02075Z",
          "iopub.status.idle": "2023-04-14T11:00:01.035738Z",
          "shell.execute_reply": "2023-04-14T11:00:01.03356Z",
          "shell.execute_reply.started": "2023-04-14T11:00:01.021102Z"
        },
        "id": "9W-ZFNQQalqD",
        "outputId": "a6e2bec4-475b-4129-c158-555e3be40c2d",
        "trusted": true
      },
      "outputs": [
        {
          "output_type": "stream",
          "name": "stdout",
          "text": [
            "<class 'pandas.core.frame.DataFrame'>\n",
            "RangeIndex: 21459 entries, 0 to 21458\n",
            "Data columns (total 2 columns):\n",
            " #   Column     Non-Null Count  Dtype \n",
            "---  ------     --------------  ----- \n",
            " 0   Sentence   21459 non-null  object\n",
            " 1   Sentiment  21459 non-null  object\n",
            "dtypes: object(2)\n",
            "memory usage: 335.4+ KB\n"
          ]
        }
      ],
      "source": [
        "df.info()"
      ]
    },
    {
      "cell_type": "code",
      "execution_count": 10,
      "metadata": {
        "colab": {
          "base_uri": "https://localhost:8080/",
          "height": 578
        },
        "execution": {
          "iopub.execute_input": "2023-04-14T11:00:01.037896Z",
          "iopub.status.busy": "2023-04-14T11:00:01.037471Z",
          "iopub.status.idle": "2023-04-14T11:00:01.868959Z",
          "shell.execute_reply": "2023-04-14T11:00:01.867736Z",
          "shell.execute_reply.started": "2023-04-14T11:00:01.037859Z"
        },
        "id": "s6i2tMb2alqG",
        "outputId": "7ebd01af-62db-44d4-85af-f661e11e8a13",
        "trusted": true
      },
      "outputs": [
        {
          "output_type": "stream",
          "name": "stdout",
          "text": [
            "Sentiment Class Distribution:\n",
            "happy: 7029\n",
            "sadness: 6265\n",
            "anger: 2993\n",
            "fear: 2652\n",
            "love: 1641\n",
            "surprise: 879\n"
          ]
        },
        {
          "output_type": "display_data",
          "data": {
            "text/plain": [
              "<Figure size 1200x400 with 1 Axes>"
            ],
            "image/png": "[encoded data removed]"
          },
          "metadata": {}
        }
      ],
      "source": [
        "\n",
        "# Count sentiment occurrences\n",
        "sentiment = df['Sentiment'].value_counts()\n",
        "\n",
        "# Print all classes and their counts\n",
        "print(\"Sentiment Class Distribution:\")\n",
        "for label, count in sentiment.items():\n",
        "    print(f\"{label}: {count}\")\n",
        "\n",
        "# Plot\n",
        "plt.figure(figsize=(12, 4))\n",
        "sns.barplot(x=sentiment.index, y=sentiment.values, alpha=0.8)\n",
        "plt.ylabel('Number of Occurrences', fontsize=12)\n",
        "plt.xlabel('Sentiment', fontsize=12)\n",
        "plt.xticks(rotation=45)\n",
        "plt.title('Sentiment Class Distribution')\n",
        "plt.show()\n"
      ]
    },
    {
      "cell_type": "code",
      "execution_count": 11,
      "metadata": {
        "colab": {
          "base_uri": "https://localhost:8080/",
          "height": 206
        },
        "execution": {
          "iopub.execute_input": "2023-04-14T11:00:03.987546Z",
          "iopub.status.busy": "2023-04-14T11:00:03.987168Z",
          "iopub.status.idle": "2023-04-14T11:00:03.999022Z",
          "shell.execute_reply": "2023-04-14T11:00:03.997331Z",
          "shell.execute_reply.started": "2023-04-14T11:00:03.987518Z"
        },
        "id": "cAFl_r66alqa",
        "outputId": "24790984-33cb-42cf-e28e-21e86b2f1e6c",
        "trusted": true
      },
      "outputs": [
        {
          "output_type": "execute_result",
          "data": {
            "text/plain": [
              "                                            Sentence Sentiment\n",
              "0                            i didnt feel humiliated   sadness\n",
              "1  i can go from feeling so hopeless to so damned...   sadness\n",
              "2   im grabbing a minute to post i feel greedy wrong     anger\n",
              "3  i am ever feeling nostalgic about the fireplac...      love\n",
              "4                               i am feeling grouchy     anger"
            ],
            "text/html": [
              "\n",
              "  <div id=\"df-237c84ff-bc91-44c6-9e86-3113919fb448\" class=\"colab-df-container\">\n",
              "    <div>\n",
              "<style scoped>\n",
              "    .dataframe tbody tr th:only-of-type {\n",
              "        vertical-align: middle;\n",
              "    }\n",
              "\n",
              "    .dataframe tbody tr th {\n",
              "        vertical-align: top;\n",
              "    }\n",
              "\n",
              "    .dataframe thead th {\n",
              "        text-align: right;\n",
              "    }\n",
              "</style>\n",
              "<table border=\"1\" class=\"dataframe\">\n",
              "  <thead>\n",
              "    <tr style=\"text-align: right;\">\n",
              "      <th></th>\n",
              "      <th>Sentence</th>\n",
              "      <th>Sentiment</th>\n",
              "    </tr>\n",
              "  </thead>\n",
              "  <tbody>\n",
              "    <tr>\n",
              "      <th>0</th>\n",
              "      <td>i didnt feel humiliated</td>\n",
              "      <td>sadness</td>\n",
              "    </tr>\n",
              "    <tr>\n",
              "      <th>1</th>\n",
              "      <td>i can go from feeling so hopeless to so damned...</td>\n",
              "      <td>sadness</td>\n",
              "    </tr>\n",
              "    <tr>\n",
              "      <th>2</th>\n",
              "      <td>im grabbing a minute to post i feel greedy wrong</td>\n",
              "      <td>anger</td>\n",
              "    </tr>\n",
              "    <tr>\n",
              "      <th>3</th>\n",
              "      <td>i am ever feeling nostalgic about the fireplac...</td>\n",
              "      <td>love</td>\n",
              "    </tr>\n",
              "    <tr>\n",
              "      <th>4</th>\n",
              "      <td>i am feeling grouchy</td>\n",
              "      <td>anger</td>\n",
              "    </tr>\n",
              "  </tbody>\n",
              "</table>\n",
              "</div>\n",
              "    <div class=\"colab-df-buttons\">\n",
              "\n",
              "  <div class=\"colab-df-container\">\n",
              "    <button class=\"colab-df-convert\" onclick=\"convertToInteractive('df-237c84ff-bc91-44c6-9e86-3113919fb448')\"\n",
              "            title=\"Convert this dataframe to an interactive table.\"\n",
              "            style=\"display:none;\">\n",
              "\n",
              "  <svg xmlns=\"http://www.w3.org/2000/svg\" height=\"24px\" viewBox=\"0 -960 960 960\">\n",
              "    <path d=\"M120-120v-720h720v720H120Zm60-500h600v-160H180v160Zm220 220h160v-160H400v160Zm0 220h160v-160H400v160ZM180-400h160v-160H180v160Zm440 0h160v-160H620v160ZM180-180h160v-160H180v160Zm440 0h160v-160H620v160Z\"/>\n",
              "  </svg>\n",
              "    </button>\n",
              "\n",
              "  <style>\n",
              "    .colab-df-container {\n",
              "      display:flex;\n",
              "      gap: 12px;\n",
              "    }\n",
              "\n",
              "    .colab-df-convert {\n",
              "      background-color: #E8F0FE;\n",
              "      border: none;\n",
              "      border-radius: 50%;\n",
              "      cursor: pointer;\n",
              "      display: none;\n",
              "      fill: #1967D2;\n",
              "      height: 32px;\n",
              "      padding: 0 0 0 0;\n",
              "      width: 32px;\n",
              "    }\n",
              "\n",
              "    .colab-df-convert:hover {\n",
              "      background-color: #E2EBFA;\n",
              "      box-shadow: 0px 1px 2px rgba(60, 64, 67, 0.3), 0px 1px 3px 1px rgba(60, 64, 67, 0.15);\n",
              "      fill: #174EA6;\n",
              "    }\n",
              "\n",
              "    .colab-df-buttons div {\n",
              "      margin-bottom: 4px;\n",
              "    }\n",
              "\n",
              "    [theme=dark] .colab-df-convert {\n",
              "      background-color: #3B4455;\n",
              "      fill: #D2E3FC;\n",
              "    }\n",
              "\n",
              "    [theme=dark] .colab-df-convert:hover {\n",
              "      background-color: #434B5C;\n",
              "      box-shadow: 0px 1px 3px 1px rgba(0, 0, 0, 0.15);\n",
              "      filter: drop-shadow(0px 1px 2px rgba(0, 0, 0, 0.3));\n",
              "      fill: #FFFFFF;\n",
              "    }\n",
              "  </style>\n",
              "\n",
              "    <script>\n",
              "      const buttonEl =\n",
              "        document.querySelector('#df-237c84ff-bc91-44c6-9e86-3113919fb448 button.colab-df-convert');\n",
              "      buttonEl.style.display =\n",
              "        google.colab.kernel.accessAllowed ? 'block' : 'none';\n",
              "\n",
              "      async function convertToInteractive(key) {\n",
              "        const element = document.querySelector('#df-237c84ff-bc91-44c6-9e86-3113919fb448');\n",
              "        const dataTable =\n",
              "          await google.colab.kernel.invokeFunction('convertToInteractive',\n",
              "                                                    [key], {});\n",
              "        if (!dataTable) return;\n",
              "\n",
              "        const docLinkHtml = 'Like what you see? Visit the ' +\n",
              "          '<a target=\"_blank\" href=https://colab.research.google.com/notebooks/data_table.ipynb>data table notebook</a>'\n",
              "          + ' to learn more about interactive tables.';\n",
              "        element.innerHTML = '';\n",
              "        dataTable['output_type'] = 'display_data';\n",
              "        await google.colab.output.renderOutput(dataTable, element);\n",
              "        const docLink = document.createElement('div');\n",
              "        docLink.innerHTML = docLinkHtml;\n",
              "        element.appendChild(docLink);\n",
              "      }\n",
              "    </script>\n",
              "  </div>\n",
              "\n",
              "\n",
              "    <div id=\"df-b9f753a1-b142-456b-a614-62e75d628c33\">\n",
              "      <button class=\"colab-df-quickchart\" onclick=\"quickchart('df-b9f753a1-b142-456b-a614-62e75d628c33')\"\n",
              "                title=\"Suggest charts\"\n",
              "                style=\"display:none;\">\n",
              "\n",
              "<svg xmlns=\"http://www.w3.org/2000/svg\" height=\"24px\"viewBox=\"0 0 24 24\"\n",
              "     width=\"24px\">\n",
              "    <g>\n",
              "        <path d=\"M19 3H5c-1.1 0-2 .9-2 2v14c0 1.1.9 2 2 2h14c1.1 0 2-.9 2-2V5c0-1.1-.9-2-2-2zM9 17H7v-7h2v7zm4 0h-2V7h2v10zm4 0h-2v-4h2v4z\"/>\n",
              "    </g>\n",
              "</svg>\n",
              "      </button>\n",
              "\n",
              "<style>\n",
              "  .colab-df-quickchart {\n",
              "      --bg-color: #E8F0FE;\n",
              "      --fill-color: #1967D2;\n",
              "      --hover-bg-color: #E2EBFA;\n",
              "      --hover-fill-color: #174EA6;\n",
              "      --disabled-fill-color: #AAA;\n",
              "      --disabled-bg-color: #DDD;\n",
              "  }\n",
              "\n",
              "  [theme=dark] .colab-df-quickchart {\n",
              "      --bg-color: #3B4455;\n",
              "      --fill-color: #D2E3FC;\n",
              "      --hover-bg-color: #434B5C;\n",
              "      --hover-fill-color: #FFFFFF;\n",
              "      --disabled-bg-color: #3B4455;\n",
              "      --disabled-fill-color: #666;\n",
              "  }\n",
              "\n",
              "  .colab-df-quickchart {\n",
              "    background-color: var(--bg-color);\n",
              "    border: none;\n",
              "    border-radius: 50%;\n",
              "    cursor: pointer;\n",
              "    display: none;\n",
              "    fill: var(--fill-color);\n",
              "    height: 32px;\n",
              "    padding: 0;\n",
              "    width: 32px;\n",
              "  }\n",
              "\n",
              "  .colab-df-quickchart:hover {\n",
              "    background-color: var(--hover-bg-color);\n",
              "    box-shadow: 0 1px 2px rgba(60, 64, 67, 0.3), 0 1px 3px 1px rgba(60, 64, 67, 0.15);\n",
              "    fill: var(--button-hover-fill-color);\n",
              "  }\n",
              "\n",
              "  .colab-df-quickchart-complete:disabled,\n",
              "  .colab-df-quickchart-complete:disabled:hover {\n",
              "    background-color: var(--disabled-bg-color);\n",
              "    fill: var(--disabled-fill-color);\n",
              "    box-shadow: none;\n",
              "  }\n",
              "\n",
              "  .colab-df-spinner {\n",
              "    border: 2px solid var(--fill-color);\n",
              "    border-color: transparent;\n",
              "    border-bottom-color: var(--fill-color);\n",
              "    animation:\n",
              "      spin 1s steps(1) infinite;\n",
              "  }\n",
              "\n",
              "  @keyframes spin {\n",
              "    0% {\n",
              "      border-color: transparent;\n",
              "      border-bottom-color: var(--fill-color);\n",
              "      border-left-color: var(--fill-color);\n",
              "    }\n",
              "    20% {\n",
              "      border-color: transparent;\n",
              "      border-left-color: var(--fill-color);\n",
              "      border-top-color: var(--fill-color);\n",
              "    }\n",
              "    30% {\n",
              "      border-color: transparent;\n",
              "      border-left-color: var(--fill-color);\n",
              "      border-top-color: var(--fill-color);\n",
              "      border-right-color: var(--fill-color);\n",
              "    }\n",
              "    40% {\n",
              "      border-color: transparent;\n",
              "      border-right-color: var(--fill-color);\n",
              "      border-top-color: var(--fill-color);\n",
              "    }\n",
              "    60% {\n",
              "      border-color: transparent;\n",
              "      border-right-color: var(--fill-color);\n",
              "    }\n",
              "    80% {\n",
              "      border-color: transparent;\n",
              "      border-right-color: var(--fill-color);\n",
              "      border-bottom-color: var(--fill-color);\n",
              "    }\n",
              "    90% {\n",
              "      border-color: transparent;\n",
              "      border-bottom-color: var(--fill-color);\n",
              "    }\n",
              "  }\n",
              "</style>\n",
              "\n",
              "      <script>\n",
              "        async function quickchart(key) {\n",
              "          const quickchartButtonEl =\n",
              "            document.querySelector('#' + key + ' button');\n",
              "          quickchartButtonEl.disabled = true;  // To prevent multiple clicks.\n",
              "          quickchartButtonEl.classList.add('colab-df-spinner');\n",
              "          try {\n",
              "            const charts = await google.colab.kernel.invokeFunction(\n",
              "                'suggestCharts', [key], {});\n",
              "          } catch (error) {\n",
              "            console.error('Error during call to suggestCharts:', error);\n",
              "          }\n",
              "          quickchartButtonEl.classList.remove('colab-df-spinner');\n",
              "          quickchartButtonEl.classList.add('colab-df-quickchart-complete');\n",
              "        }\n",
              "        (() => {\n",
              "          let quickchartButtonEl =\n",
              "            document.querySelector('#df-b9f753a1-b142-456b-a614-62e75d628c33 button');\n",
              "          quickchartButtonEl.style.display =\n",
              "            google.colab.kernel.accessAllowed ? 'block' : 'none';\n",
              "        })();\n",
              "      </script>\n",
              "    </div>\n",
              "\n",
              "    </div>\n",
              "  </div>\n"
            ],
            "application/vnd.google.colaboratory.intrinsic+json": {
              "type": "dataframe",
              "variable_name": "df",
              "summary": "{\n  \"name\": \"df\",\n  \"rows\": 21459,\n  \"fields\": [\n    {\n      \"column\": \"Sentence\",\n      \"properties\": {\n        \"dtype\": \"string\",\n        \"num_unique_values\": 21405,\n        \"samples\": [\n          \"i feel like they are more boring to paint than a bunch of fruit\",\n          \"i feel as weird criticizing this game as much as i feel weird praising it\",\n          \"i also feel very nostalgic about all these highschool memories\"\n        ],\n        \"semantic_type\": \"\",\n        \"description\": \"\"\n      }\n    },\n    {\n      \"column\": \"Sentiment\",\n      \"properties\": {\n        \"dtype\": \"category\",\n        \"num_unique_values\": 6,\n        \"samples\": [\n          \"sadness\",\n          \"anger\",\n          \"happy\"\n        ],\n        \"semantic_type\": \"\",\n        \"description\": \"\"\n      }\n    }\n  ]\n}"
            }
          },
          "metadata": {},
          "execution_count": 11
        }
      ],
      "source": [
        "df.head()"
      ]
    },
    {
      "cell_type": "code",
      "execution_count": 15,
      "metadata": {
        "execution": {
          "iopub.execute_input": "2023-04-14T11:00:04.000877Z",
          "iopub.status.busy": "2023-04-14T11:00:04.000535Z",
          "iopub.status.idle": "2023-04-14T11:00:04.018667Z",
          "shell.execute_reply": "2023-04-14T11:00:04.017337Z",
          "shell.execute_reply.started": "2023-04-14T11:00:04.000844Z"
        },
        "id": "6Ia0NoL0alqf",
        "trusted": true
      },
      "outputs": [],
      "source": [
        "def upsample_all_classes(df, label_column):\n",
        "    # Separate by class\n",
        "    grouped = [group for _, group in df.groupby(label_column)]\n",
        "\n",
        "    # Find the largest class size\n",
        "    max_size = max([len(group) for group in grouped])\n",
        "\n",
        "    # Upsample each group\n",
        "    upsampled = [\n",
        "        resample(group, replace=True, n_samples=max_size, random_state=42)\n",
        "        for group in grouped\n",
        "    ]\n",
        "\n",
        "    # Combine all upsampled groups\n",
        "    df_upsampled = pd.concat(upsampled).sample(frac=1, random_state=42).reset_index(drop=True)\n",
        "\n",
        "    return df_upsampled\n"
      ]
    },
    {
      "cell_type": "code",
      "execution_count": 16,
      "metadata": {
        "id": "cTOo2_64hHQp"
      },
      "outputs": [],
      "source": [
        "df_balanced = upsample_all_classes(df, label_column='Sentiment')"
      ]
    },
    {
      "cell_type": "code",
      "execution_count": 17,
      "metadata": {
        "colab": {
          "base_uri": "https://localhost:8080/"
        },
        "id": "hBuNZyrVhHWP",
        "outputId": "e1191cfb-7408-4d6f-fae8-63f36db66c03"
      },
      "outputs": [
        {
          "output_type": "stream",
          "name": "stdout",
          "text": [
            "Sentiment\n",
            "love        7029\n",
            "happy       7029\n",
            "anger       7029\n",
            "sadness     7029\n",
            "fear        7029\n",
            "surprise    7029\n",
            "Name: count, dtype: int64\n"
          ]
        }
      ],
      "source": [
        "print(df_balanced['Sentiment'].value_counts())"
      ]
    },
    {
      "cell_type": "code",
      "execution_count": 20,
      "metadata": {
        "colab": {
          "base_uri": "https://localhost:8080/"
        },
        "execution": {
          "iopub.execute_input": "2023-04-14T11:00:04.021114Z",
          "iopub.status.busy": "2023-04-14T11:00:04.020644Z",
          "iopub.status.idle": "2023-04-14T11:00:04.034282Z",
          "shell.execute_reply": "2023-04-14T11:00:04.033021Z",
          "shell.execute_reply.started": "2023-04-14T11:00:04.021076Z"
        },
        "id": "ikvPvSEBalqh",
        "outputId": "ad9ac089-036e-40f7-c028-2a6988f7ae64",
        "trusted": true
      },
      "outputs": [
        {
          "output_type": "execute_result",
          "data": {
            "text/plain": [
              "((29521,), (12653,), (29521,), (12653,))"
            ]
          },
          "metadata": {},
          "execution_count": 20
        }
      ],
      "source": [
        "from sklearn.model_selection import train_test_split  # Import function to split data into training and test sets\n",
        "\n",
        "# Split the dataset into training and test sets\n",
        "# - df_balanced.Sentence is the feature (input)\n",
        "# - df_balanced.Sentiment is the target (label)\n",
        "# - test_size=0.3 means 30% of the data is used for testing, 70% for training\n",
        "# - random_state=42 ensures reproducibility of the split\n",
        "X_train, X_test, y_train, y_test = train_test_split(\n",
        "    df_balanced.Sentence,\n",
        "    df_balanced.Sentiment,\n",
        "    test_size=0.3,\n",
        "    random_state=42\n",
        ")\n",
        "\n",
        "# Check the shape (number of samples) in each of the resulting splits\n",
        "X_train.shape, X_test.shape, y_train.shape, y_test.shape\n"
      ]
    },
    {
      "cell_type": "code",
      "execution_count": 22,
      "metadata": {
        "execution": {
          "iopub.execute_input": "2023-04-14T11:00:04.036378Z",
          "iopub.status.busy": "2023-04-14T11:00:04.035993Z",
          "iopub.status.idle": "2023-04-14T11:00:14.238901Z",
          "shell.execute_reply": "2023-04-14T11:00:14.236951Z",
          "shell.execute_reply.started": "2023-04-14T11:00:04.036339Z"
        },
        "id": "m1wd6x6ualqj",
        "trusted": true
      },
      "outputs": [],
      "source": [
        "\n",
        "token = Tokenizer()\n",
        "token.fit_on_texts(X_train)"
      ]
    },
    {
      "cell_type": "code",
      "execution_count": 23,
      "metadata": {
        "colab": {
          "base_uri": "https://localhost:8080/"
        },
        "execution": {
          "iopub.execute_input": "2023-04-14T11:00:14.242321Z",
          "iopub.status.busy": "2023-04-14T11:00:14.241291Z",
          "iopub.status.idle": "2023-04-14T11:00:14.249777Z",
          "shell.execute_reply": "2023-04-14T11:00:14.247775Z",
          "shell.execute_reply.started": "2023-04-14T11:00:14.242274Z"
        },
        "id": "j46emlx6alqk",
        "outputId": "c75d1121-f3ed-4f1f-a24f-d913a19af473",
        "trusted": true
      },
      "outputs": [
        {
          "output_type": "stream",
          "name": "stdout",
          "text": [
            "Vocabulary size=15422\n",
            "Number of Documents=29521\n"
          ]
        }
      ],
      "source": [
        "vocab = len(token.index_word) + 1\n",
        "print(\"Vocabulary size={}\".format(len(token.word_index)))\n",
        "print(\"Number of Documents={}\".format(token.document_count))"
      ]
    },
    {
      "cell_type": "code",
      "execution_count": 24,
      "metadata": {
        "execution": {
          "iopub.execute_input": "2023-04-14T11:00:14.252439Z",
          "iopub.status.busy": "2023-04-14T11:00:14.251993Z",
          "iopub.status.idle": "2023-04-14T11:00:14.304369Z",
          "shell.execute_reply": "2023-04-14T11:00:14.302359Z",
          "shell.execute_reply.started": "2023-04-14T11:00:14.25239Z"
        },
        "id": "aN7T6MbSalqn",
        "trusted": true
      },
      "outputs": [],
      "source": [
        "X_train = token.texts_to_sequences(X_train)\n",
        "X_test = token.texts_to_sequences(X_test)"
      ]
    },
    {
      "cell_type": "code",
      "execution_count": 25,
      "metadata": {
        "colab": {
          "base_uri": "https://localhost:8080/",
          "height": 607
        },
        "execution": {
          "iopub.execute_input": "2023-04-14T11:00:14.306865Z",
          "iopub.status.busy": "2023-04-14T11:00:14.306499Z",
          "iopub.status.idle": "2023-04-14T11:00:14.636836Z",
          "shell.execute_reply": "2023-04-14T11:00:14.635404Z",
          "shell.execute_reply.started": "2023-04-14T11:00:14.306827Z"
        },
        "id": "YXIHIm55alqo",
        "outputId": "22e7a0e7-2fc2-4d00-8980-1abddeb92317",
        "trusted": true
      },
      "outputs": [
        {
          "output_type": "display_data",
          "data": {
            "text/plain": [
              "<Figure size 1200x600 with 2 Axes>"
            ],
            "image/png": "[encoded data removed]"
          },
          "metadata": {}
        }
      ],
      "source": [
        "import matplotlib.pyplot as plt\n",
        "%matplotlib inline\n",
        "\n",
        "train_lens = [len(s) for s in X_train]\n",
        "test_lens = [len(s) for s in X_test]\n",
        "\n",
        "fig, ax = plt.subplots(1, 2, figsize=(12, 6))\n",
        "\n",
        "# Training set\n",
        "ax[0].hist(train_lens)\n",
        "ax[0].set_title('Training Sentence Lengths')\n",
        "ax[0].set_xlabel('Length of Sentence')\n",
        "ax[0].set_ylabel('Frequency')\n",
        "\n",
        "# Testing set\n",
        "ax[1].hist(test_lens)\n",
        "ax[1].set_title('Testing Sentence Lengths')\n",
        "ax[1].set_xlabel('Length of Sentence')\n",
        "ax[1].set_ylabel('Frequency')\n",
        "\n",
        "plt.tight_layout()  # Fix layout to show labels properly\n",
        "plt.show()\n"
      ]
    },
    {
      "cell_type": "code",
      "execution_count": 26,
      "metadata": {
        "colab": {
          "base_uri": "https://localhost:8080/"
        },
        "execution": {
          "iopub.execute_input": "2023-04-14T11:00:14.638485Z",
          "iopub.status.busy": "2023-04-14T11:00:14.638187Z",
          "iopub.status.idle": "2023-04-14T11:00:14.655403Z",
          "shell.execute_reply": "2023-04-14T11:00:14.653721Z",
          "shell.execute_reply.started": "2023-04-14T11:00:14.638458Z"
        },
        "id": "xSMHAuucalqo",
        "outputId": "9bae47d5-202b-404a-a767-f006a1fd87d4",
        "trusted": true
      },
      "outputs": [
        {
          "output_type": "execute_result",
          "data": {
            "text/plain": [
              "((29521, 30), (12653, 30))"
            ]
          },
          "metadata": {},
          "execution_count": 26
        }
      ],
      "source": [
        "from tensorflow.keras.preprocessing.sequence import pad_sequences  # Import function to pad sequences to the same length\n",
        "\n",
        "# Define the maximum sequence length for padding\n",
        "MAX_SEQUENCE_LENGTH = 30\n",
        "\n",
        "# Pad the training sequences to the same length\n",
        "# - padding=\"post\" adds zeros to the end of the sequences if they're shorter than MAX_SEQUENCE_LENGTH\n",
        "# - Sequences longer than MAX_SEQUENCE_LENGTH will be truncated from the end\n",
        "X_train = pad_sequences(X_train, maxlen=MAX_SEQUENCE_LENGTH, padding=\"post\")\n",
        "\n",
        "# Pad the test sequences similarly\n",
        "X_test = pad_sequences(X_test, maxlen=MAX_SEQUENCE_LENGTH, padding=\"post\")\n",
        "\n",
        "# Display the new shapes of the padded training and test sets\n",
        "X_train.shape, X_test.shape\n"
      ]
    },
    {
      "cell_type": "code",
      "execution_count": 27,
      "metadata": {
        "colab": {
          "base_uri": "https://localhost:8080/"
        },
        "execution": {
          "iopub.execute_input": "2023-04-14T11:00:14.657542Z",
          "iopub.status.busy": "2023-04-14T11:00:14.65707Z",
          "iopub.status.idle": "2023-04-14T11:00:14.663904Z",
          "shell.execute_reply": "2023-04-14T11:00:14.662277Z",
          "shell.execute_reply.started": "2023-04-14T11:00:14.657512Z"
        },
        "id": "6JPS_jc6alqt",
        "outputId": "5990b675-52e3-48bd-9270-ac9f8b231089",
        "trusted": true
      },
      "outputs": [
        {
          "output_type": "stream",
          "name": "stdout",
          "text": [
            "Number of sentiment classes: 6\n",
            "\n",
            "Label Encoding Mapping:\n",
            "anger → 0\n",
            "fear → 1\n",
            "happy → 2\n",
            "love → 3\n",
            "sadness → 4\n",
            "surprise → 5\n"
          ]
        }
      ],
      "source": [
        "from sklearn.preprocessing import LabelEncoder\n",
        "from tensorflow.keras.utils import to_categorical\n",
        "\n",
        "# Initialize a LabelEncoder to convert text labels into integers\n",
        "le = LabelEncoder()\n",
        "\n",
        "# Fit the encoder on training labels and transform them to integers\n",
        "y_train_enc = le.fit_transform(y_train)\n",
        "\n",
        "# Transform test labels using the same encoder (no fitting on test data!)\n",
        "y_test_enc = le.transform(y_test)\n",
        "\n",
        "# Optional: One-hot encode the integer labels for use with softmax output layers\n",
        "y_train_cat = to_categorical(y_train_enc)  # Shape: (num_samples, num_classes)\n",
        "y_test_cat = to_categorical(y_test_enc)\n",
        "\n",
        "# Determine the number of unique sentiment classes\n",
        "num_classes = len(le.classes_)\n",
        "print(\"Number of sentiment classes:\", num_classes)\n",
        "\n",
        "# 🔍 Print the mapping between original sentiment labels and their encoded integer values\n",
        "print(\"\\nLabel Encoding Mapping:\")\n",
        "for idx, label in enumerate(le.classes_):\n",
        "    print(f\"{label} → {idx}\")\n"
      ]
    },
    {
      "cell_type": "code",
      "execution_count": 28,
      "metadata": {
        "execution": {
          "iopub.execute_input": "2023-04-14T11:00:14.6659Z",
          "iopub.status.busy": "2023-04-14T11:00:14.665538Z",
          "iopub.status.idle": "2023-04-14T11:00:14.679349Z",
          "shell.execute_reply": "2023-04-14T11:00:14.676323Z",
          "shell.execute_reply.started": "2023-04-14T11:00:14.665867Z"
        },
        "id": "n6BWW4njalqu",
        "trusted": true
      },
      "outputs": [],
      "source": [
        "# Encode the training labels into integers using LabelEncoder\n",
        "y_train = le.fit_transform(y_train)  # Fit on training labels and transform them\n",
        "\n",
        "# Encode the test labels using the same label encoder (don't fit again!)\n",
        "y_test = le.transform(y_test)  # Transform test labels using the already-fitted encoder\n"
      ]
    },
    {
      "cell_type": "code",
      "execution_count": 29,
      "metadata": {
        "colab": {
          "base_uri": "https://localhost:8080/"
        },
        "id": "VaDXj0FtjTM2",
        "outputId": "8123445f-8646-462e-caf0-aa9ea68e0fb0"
      },
      "outputs": [
        {
          "output_type": "execute_result",
          "data": {
            "text/plain": [
              "array([2, 1, 2, ..., 5, 4, 0])"
            ]
          },
          "metadata": {},
          "execution_count": 29
        }
      ],
      "source": [
        "y_train"
      ]
    },
    {
      "cell_type": "code",
      "execution_count": 30,
      "metadata": {
        "colab": {
          "base_uri": "https://localhost:8080/"
        },
        "id": "g7SBsbc2jTRX",
        "outputId": "e41abe70-6b60-44b4-8c45-f16d599d19f8"
      },
      "outputs": [
        {
          "output_type": "execute_result",
          "data": {
            "text/plain": [
              "array([4, 3, 3, ..., 3, 4, 0])"
            ]
          },
          "metadata": {},
          "execution_count": 30
        }
      ],
      "source": [
        "y_test"
      ]
    },
    {
      "cell_type": "code",
      "execution_count": 31,
      "metadata": {
        "colab": {
          "base_uri": "https://localhost:8080/",
          "height": 465
        },
        "execution": {
          "iopub.execute_input": "2023-04-14T11:00:14.682086Z",
          "iopub.status.busy": "2023-04-14T11:00:14.681127Z",
          "iopub.status.idle": "2023-04-14T11:00:15.039407Z",
          "shell.execute_reply": "2023-04-14T11:00:15.038235Z",
          "shell.execute_reply.started": "2023-04-14T11:00:14.682011Z"
        },
        "id": "ehgDVzxealqy",
        "outputId": "382022e0-7de0-47de-998d-a5222f30ec9f",
        "trusted": true
      },
      "outputs": [
        {
          "output_type": "display_data",
          "data": {
            "text/plain": [
              "\u001b[1mModel: \"sequential\"\u001b[0m\n"
            ],
            "text/html": [
              "<pre style=\"white-space:pre;overflow-x:auto;line-height:normal;font-family:Menlo,'DejaVu Sans Mono',consolas,'Courier New',monospace\"><span style=\"font-weight: bold\">Model: \"sequential\"</span>\n",
              "</pre>\n"
            ]
          },
          "metadata": {}
        },
        {
          "output_type": "display_data",
          "data": {
            "text/plain": [
              "┏━━━━━━━━━━━━━━━━━━━━━━━━━━━━━━━━━┳━━━━━━━━━━━━━━━━━━━━━━━━┳━━━━━━━━━━━━━━━┓\n",
              "┃\u001b[1m \u001b[0m\u001b[1mLayer (type)                   \u001b[0m\u001b[1m \u001b[0m┃\u001b[1m \u001b[0m\u001b[1mOutput Shape          \u001b[0m\u001b[1m \u001b[0m┃\u001b[1m \u001b[0m\u001b[1m      Param #\u001b[0m\u001b[1m \u001b[0m┃\n",
              "┡━━━━━━━━━━━━━━━━━━━━━━━━━━━━━━━━━╇━━━━━━━━━━━━━━━━━━━━━━━━╇━━━━━━━━━━━━━━━┩\n",
              "│ embedding (\u001b[38;5;33mEmbedding\u001b[0m)           │ (\u001b[38;5;45mNone\u001b[0m, \u001b[38;5;34m30\u001b[0m, \u001b[38;5;34m300\u001b[0m)        │     \u001b[38;5;34m4,626,900\u001b[0m │\n",
              "├─────────────────────────────────┼────────────────────────┼───────────────┤\n",
              "│ conv1d (\u001b[38;5;33mConv1D\u001b[0m)                 │ (\u001b[38;5;45mNone\u001b[0m, \u001b[38;5;34m23\u001b[0m, \u001b[38;5;34m64\u001b[0m)         │       \u001b[38;5;34m153,664\u001b[0m │\n",
              "├─────────────────────────────────┼────────────────────────┼───────────────┤\n",
              "│ max_pooling1d (\u001b[38;5;33mMaxPooling1D\u001b[0m)    │ (\u001b[38;5;45mNone\u001b[0m, \u001b[38;5;34m11\u001b[0m, \u001b[38;5;34m64\u001b[0m)         │             \u001b[38;5;34m0\u001b[0m │\n",
              "├─────────────────────────────────┼────────────────────────┼───────────────┤\n",
              "│ dropout (\u001b[38;5;33mDropout\u001b[0m)               │ (\u001b[38;5;45mNone\u001b[0m, \u001b[38;5;34m11\u001b[0m, \u001b[38;5;34m64\u001b[0m)         │             \u001b[38;5;34m0\u001b[0m │\n",
              "├─────────────────────────────────┼────────────────────────┼───────────────┤\n",
              "│ dense (\u001b[38;5;33mDense\u001b[0m)                   │ (\u001b[38;5;45mNone\u001b[0m, \u001b[38;5;34m11\u001b[0m, \u001b[38;5;34m8\u001b[0m)          │           \u001b[38;5;34m520\u001b[0m │\n",
              "├─────────────────────────────────┼────────────────────────┼───────────────┤\n",
              "│ dropout_1 (\u001b[38;5;33mDropout\u001b[0m)             │ (\u001b[38;5;45mNone\u001b[0m, \u001b[38;5;34m11\u001b[0m, \u001b[38;5;34m8\u001b[0m)          │             \u001b[38;5;34m0\u001b[0m │\n",
              "├─────────────────────────────────┼────────────────────────┼───────────────┤\n",
              "│ dense_1 (\u001b[38;5;33mDense\u001b[0m)                 │ (\u001b[38;5;45mNone\u001b[0m, \u001b[38;5;34m11\u001b[0m, \u001b[38;5;34m4\u001b[0m)          │            \u001b[38;5;34m36\u001b[0m │\n",
              "├─────────────────────────────────┼────────────────────────┼───────────────┤\n",
              "│ dropout_2 (\u001b[38;5;33mDropout\u001b[0m)             │ (\u001b[38;5;45mNone\u001b[0m, \u001b[38;5;34m11\u001b[0m, \u001b[38;5;34m4\u001b[0m)          │             \u001b[38;5;34m0\u001b[0m │\n",
              "├─────────────────────────────────┼────────────────────────┼───────────────┤\n",
              "│ global_max_pooling1d            │ (\u001b[38;5;45mNone\u001b[0m, \u001b[38;5;34m4\u001b[0m)              │             \u001b[38;5;34m0\u001b[0m │\n",
              "│ (\u001b[38;5;33mGlobalMaxPooling1D\u001b[0m)            │                        │               │\n",
              "├─────────────────────────────────┼────────────────────────┼───────────────┤\n",
              "│ dense_2 (\u001b[38;5;33mDense\u001b[0m)                 │ (\u001b[38;5;45mNone\u001b[0m, \u001b[38;5;34m6\u001b[0m)              │            \u001b[38;5;34m30\u001b[0m │\n",
              "└─────────────────────────────────┴────────────────────────┴───────────────┘\n"
            ],
            "text/html": [
              "<pre style=\"white-space:pre;overflow-x:auto;line-height:normal;font-family:Menlo,'DejaVu Sans Mono',consolas,'Courier New',monospace\">┏━━━━━━━━━━━━━━━━━━━━━━━━━━━━━━━━━┳━━━━━━━━━━━━━━━━━━━━━━━━┳━━━━━━━━━━━━━━━┓\n",
              "┃<span style=\"font-weight: bold\"> Layer (type)                    </span>┃<span style=\"font-weight: bold\"> Output Shape           </span>┃<span style=\"font-weight: bold\">       Param # </span>┃\n",
              "┡━━━━━━━━━━━━━━━━━━━━━━━━━━━━━━━━━╇━━━━━━━━━━━━━━━━━━━━━━━━╇━━━━━━━━━━━━━━━┩\n",
              "│ embedding (<span style=\"color: #0087ff; text-decoration-color: #0087ff\">Embedding</span>)           │ (<span style=\"color: #00d7ff; text-decoration-color: #00d7ff\">None</span>, <span style=\"color: #00af00; text-decoration-color: #00af00\">30</span>, <span style=\"color: #00af00; text-decoration-color: #00af00\">300</span>)        │     <span style=\"color: #00af00; text-decoration-color: #00af00\">4,626,900</span> │\n",
              "├─────────────────────────────────┼────────────────────────┼───────────────┤\n",
              "│ conv1d (<span style=\"color: #0087ff; text-decoration-color: #0087ff\">Conv1D</span>)                 │ (<span style=\"color: #00d7ff; text-decoration-color: #00d7ff\">None</span>, <span style=\"color: #00af00; text-decoration-color: #00af00\">23</span>, <span style=\"color: #00af00; text-decoration-color: #00af00\">64</span>)         │       <span style=\"color: #00af00; text-decoration-color: #00af00\">153,664</span> │\n",
              "├─────────────────────────────────┼────────────────────────┼───────────────┤\n",
              "│ max_pooling1d (<span style=\"color: #0087ff; text-decoration-color: #0087ff\">MaxPooling1D</span>)    │ (<span style=\"color: #00d7ff; text-decoration-color: #00d7ff\">None</span>, <span style=\"color: #00af00; text-decoration-color: #00af00\">11</span>, <span style=\"color: #00af00; text-decoration-color: #00af00\">64</span>)         │             <span style=\"color: #00af00; text-decoration-color: #00af00\">0</span> │\n",
              "├─────────────────────────────────┼────────────────────────┼───────────────┤\n",
              "│ dropout (<span style=\"color: #0087ff; text-decoration-color: #0087ff\">Dropout</span>)               │ (<span style=\"color: #00d7ff; text-decoration-color: #00d7ff\">None</span>, <span style=\"color: #00af00; text-decoration-color: #00af00\">11</span>, <span style=\"color: #00af00; text-decoration-color: #00af00\">64</span>)         │             <span style=\"color: #00af00; text-decoration-color: #00af00\">0</span> │\n",
              "├─────────────────────────────────┼────────────────────────┼───────────────┤\n",
              "│ dense (<span style=\"color: #0087ff; text-decoration-color: #0087ff\">Dense</span>)                   │ (<span style=\"color: #00d7ff; text-decoration-color: #00d7ff\">None</span>, <span style=\"color: #00af00; text-decoration-color: #00af00\">11</span>, <span style=\"color: #00af00; text-decoration-color: #00af00\">8</span>)          │           <span style=\"color: #00af00; text-decoration-color: #00af00\">520</span> │\n",
              "├─────────────────────────────────┼────────────────────────┼───────────────┤\n",
              "│ dropout_1 (<span style=\"color: #0087ff; text-decoration-color: #0087ff\">Dropout</span>)             │ (<span style=\"color: #00d7ff; text-decoration-color: #00d7ff\">None</span>, <span style=\"color: #00af00; text-decoration-color: #00af00\">11</span>, <span style=\"color: #00af00; text-decoration-color: #00af00\">8</span>)          │             <span style=\"color: #00af00; text-decoration-color: #00af00\">0</span> │\n",
              "├─────────────────────────────────┼────────────────────────┼───────────────┤\n",
              "│ dense_1 (<span style=\"color: #0087ff; text-decoration-color: #0087ff\">Dense</span>)                 │ (<span style=\"color: #00d7ff; text-decoration-color: #00d7ff\">None</span>, <span style=\"color: #00af00; text-decoration-color: #00af00\">11</span>, <span style=\"color: #00af00; text-decoration-color: #00af00\">4</span>)          │            <span style=\"color: #00af00; text-decoration-color: #00af00\">36</span> │\n",
              "├─────────────────────────────────┼────────────────────────┼───────────────┤\n",
              "│ dropout_2 (<span style=\"color: #0087ff; text-decoration-color: #0087ff\">Dropout</span>)             │ (<span style=\"color: #00d7ff; text-decoration-color: #00d7ff\">None</span>, <span style=\"color: #00af00; text-decoration-color: #00af00\">11</span>, <span style=\"color: #00af00; text-decoration-color: #00af00\">4</span>)          │             <span style=\"color: #00af00; text-decoration-color: #00af00\">0</span> │\n",
              "├─────────────────────────────────┼────────────────────────┼───────────────┤\n",
              "│ global_max_pooling1d            │ (<span style=\"color: #00d7ff; text-decoration-color: #00d7ff\">None</span>, <span style=\"color: #00af00; text-decoration-color: #00af00\">4</span>)              │             <span style=\"color: #00af00; text-decoration-color: #00af00\">0</span> │\n",
              "│ (<span style=\"color: #0087ff; text-decoration-color: #0087ff\">GlobalMaxPooling1D</span>)            │                        │               │\n",
              "├─────────────────────────────────┼────────────────────────┼───────────────┤\n",
              "│ dense_2 (<span style=\"color: #0087ff; text-decoration-color: #0087ff\">Dense</span>)                 │ (<span style=\"color: #00d7ff; text-decoration-color: #00d7ff\">None</span>, <span style=\"color: #00af00; text-decoration-color: #00af00\">6</span>)              │            <span style=\"color: #00af00; text-decoration-color: #00af00\">30</span> │\n",
              "└─────────────────────────────────┴────────────────────────┴───────────────┘\n",
              "</pre>\n"
            ]
          },
          "metadata": {}
        },
        {
          "output_type": "display_data",
          "data": {
            "text/plain": [
              "\u001b[1m Total params: \u001b[0m\u001b[38;5;34m4,781,150\u001b[0m (18.24 MB)\n"
            ],
            "text/html": [
              "<pre style=\"white-space:pre;overflow-x:auto;line-height:normal;font-family:Menlo,'DejaVu Sans Mono',consolas,'Courier New',monospace\"><span style=\"font-weight: bold\"> Total params: </span><span style=\"color: #00af00; text-decoration-color: #00af00\">4,781,150</span> (18.24 MB)\n",
              "</pre>\n"
            ]
          },
          "metadata": {}
        },
        {
          "output_type": "display_data",
          "data": {
            "text/plain": [
              "\u001b[1m Trainable params: \u001b[0m\u001b[38;5;34m4,781,150\u001b[0m (18.24 MB)\n"
            ],
            "text/html": [
              "<pre style=\"white-space:pre;overflow-x:auto;line-height:normal;font-family:Menlo,'DejaVu Sans Mono',consolas,'Courier New',monospace\"><span style=\"font-weight: bold\"> Trainable params: </span><span style=\"color: #00af00; text-decoration-color: #00af00\">4,781,150</span> (18.24 MB)\n",
              "</pre>\n"
            ]
          },
          "metadata": {}
        },
        {
          "output_type": "display_data",
          "data": {
            "text/plain": [
              "\u001b[1m Non-trainable params: \u001b[0m\u001b[38;5;34m0\u001b[0m (0.00 B)\n"
            ],
            "text/html": [
              "<pre style=\"white-space:pre;overflow-x:auto;line-height:normal;font-family:Menlo,'DejaVu Sans Mono',consolas,'Courier New',monospace\"><span style=\"font-weight: bold\"> Non-trainable params: </span><span style=\"color: #00af00; text-decoration-color: #00af00\">0</span> (0.00 B)\n",
              "</pre>\n"
            ]
          },
          "metadata": {}
        }
      ],
      "source": [
        "# One-hot encode the labels\n",
        "# Ensures labels are in a format suitable for categorical crossentropy loss (one-hot encoded)\n",
        "y_train_cat = to_categorical(y_train, num_classes=6)\n",
        "y_test_cat = to_categorical(y_test, num_classes=6)\n",
        "\n",
        "# Define the size of the word embedding vectors\n",
        "vec_size = 300\n",
        "\n",
        "# Build the CNN model\n",
        "model = Sequential()\n",
        "\n",
        "# Add an Embedding layer to convert word indices to dense vectors\n",
        "# - input_dim: total number of unique tokens (vocab size)\n",
        "# - output_dim: dimension of the embedding vectors\n",
        "# - input_length: fixed length of each input sequence\n",
        "model.add(Embedding(input_dim=vocab, output_dim=vec_size, input_length=MAX_SEQUENCE_LENGTH))\n",
        "\n",
        "# Add a 1D Convolutional layer\n",
        "# - 64 filters\n",
        "# - kernel size of 8 (i.e., looks at 8-word windows)\n",
        "# - ReLU activation\n",
        "model.add(Conv1D(64, kernel_size=8, activation=\"relu\"))\n",
        "\n",
        "# Downsample the output using max pooling (to reduce dimensionality)\n",
        "model.add(MaxPooling1D(pool_size=2))\n",
        "\n",
        "# Add dropout for regularization (prevents overfitting)\n",
        "model.add(Dropout(0.1))\n",
        "\n",
        "# Fully connected Dense layers with ReLU activation\n",
        "model.add(Dense(8, activation=\"relu\"))\n",
        "model.add(Dropout(0.1))\n",
        "model.add(Dense(4, activation='relu'))\n",
        "model.add(Dropout(0.1))\n",
        "\n",
        "# Use Global Max Pooling to reduce sequence output to a single vector\n",
        "model.add(GlobalMaxPooling1D())\n",
        "\n",
        "# Final Dense layer with softmax activation for multi-class classification (6 classes)\n",
        "model.add(Dense(6, activation='softmax'))\n",
        "\n",
        "# Compile the model\n",
        "# - Loss: categorical crossentropy for multi-class classification\n",
        "# - Optimizer: Adam with a low learning rate\n",
        "# - Metrics: track accuracy during training and evaluation\n",
        "model.compile(\n",
        "    loss='categorical_crossentropy',\n",
        "    optimizer=tf.optimizers.Adam(learning_rate=0.0001),\n",
        "    metrics=['accuracy']\n",
        ")\n",
        "\n",
        "# Force model building with specific input shape to ensure .summary() works correctly\n",
        "model.build(input_shape=(None, MAX_SEQUENCE_LENGTH))\n",
        "\n",
        "# Display the model architecture summary\n",
        "model.summary()\n"
      ]
    },
    {
      "cell_type": "code",
      "execution_count": 32,
      "metadata": {
        "colab": {
          "base_uri": "https://localhost:8080/"
        },
        "execution": {
          "iopub.execute_input": "2023-04-14T11:00:15.041003Z",
          "iopub.status.busy": "2023-04-14T11:00:15.040698Z",
          "iopub.status.idle": "2023-04-14T11:01:54.662982Z",
          "shell.execute_reply": "2023-04-14T11:01:54.661379Z",
          "shell.execute_reply.started": "2023-04-14T11:00:15.040966Z"
        },
        "id": "BQZ-6mpralqz",
        "outputId": "dda6f771-5914-4d38-dfc5-223601160a2f",
        "trusted": true
      },
      "outputs": [
        {
          "output_type": "stream",
          "name": "stdout",
          "text": [
            "Epoch 1/10\n",
            "\u001b[1m462/462\u001b[0m \u001b[32m━━━━━━━━━━━━━━━━━━━━\u001b[0m\u001b[37m\u001b[0m \u001b[1m75s\u001b[0m 158ms/step - accuracy: 0.1887 - loss: 1.7883 - val_accuracy: 0.2550 - val_loss: 1.7565\n",
            "Epoch 2/10\n",
            "\u001b[1m462/462\u001b[0m \u001b[32m━━━━━━━━━━━━━━━━━━━━\u001b[0m\u001b[37m\u001b[0m \u001b[1m71s\u001b[0m 154ms/step - accuracy: 0.2627 - loss: 1.6838 - val_accuracy: 0.5383 - val_loss: 1.4347\n",
            "Epoch 3/10\n",
            "\u001b[1m462/462\u001b[0m \u001b[32m━━━━━━━━━━━━━━━━━━━━\u001b[0m\u001b[37m\u001b[0m \u001b[1m70s\u001b[0m 153ms/step - accuracy: 0.4914 - loss: 1.3773 - val_accuracy: 0.6487 - val_loss: 1.1021\n",
            "Epoch 4/10\n",
            "\u001b[1m462/462\u001b[0m \u001b[32m━━━━━━━━━━━━━━━━━━━━\u001b[0m\u001b[37m\u001b[0m \u001b[1m71s\u001b[0m 154ms/step - accuracy: 0.5935 - loss: 1.0835 - val_accuracy: 0.7250 - val_loss: 0.9019\n",
            "Epoch 5/10\n",
            "\u001b[1m462/462\u001b[0m \u001b[32m━━━━━━━━━━━━━━━━━━━━\u001b[0m\u001b[37m\u001b[0m \u001b[1m71s\u001b[0m 155ms/step - accuracy: 0.7138 - loss: 0.8894 - val_accuracy: 0.8738 - val_loss: 0.7311\n",
            "Epoch 6/10\n",
            "\u001b[1m462/462\u001b[0m \u001b[32m━━━━━━━━━━━━━━━━━━━━\u001b[0m\u001b[37m\u001b[0m \u001b[1m71s\u001b[0m 153ms/step - accuracy: 0.8486 - loss: 0.6991 - val_accuracy: 0.9038 - val_loss: 0.5421\n",
            "Epoch 7/10\n",
            "\u001b[1m462/462\u001b[0m \u001b[32m━━━━━━━━━━━━━━━━━━━━\u001b[0m\u001b[37m\u001b[0m \u001b[1m71s\u001b[0m 153ms/step - accuracy: 0.8843 - loss: 0.5120 - val_accuracy: 0.9219 - val_loss: 0.4019\n",
            "Epoch 8/10\n",
            "\u001b[1m462/462\u001b[0m \u001b[32m━━━━━━━━━━━━━━━━━━━━\u001b[0m\u001b[37m\u001b[0m \u001b[1m71s\u001b[0m 154ms/step - accuracy: 0.9087 - loss: 0.3776 - val_accuracy: 0.9307 - val_loss: 0.3204\n",
            "Epoch 9/10\n",
            "\u001b[1m462/462\u001b[0m \u001b[32m━━━━━━━━━━━━━━━━━━━━\u001b[0m\u001b[37m\u001b[0m \u001b[1m71s\u001b[0m 153ms/step - accuracy: 0.9242 - loss: 0.2992 - val_accuracy: 0.9329 - val_loss: 0.2759\n",
            "Epoch 10/10\n",
            "\u001b[1m462/462\u001b[0m \u001b[32m━━━━━━━━━━━━━━━━━━━━\u001b[0m\u001b[37m\u001b[0m \u001b[1m71s\u001b[0m 154ms/step - accuracy: 0.9365 - loss: 0.2447 - val_accuracy: 0.9391 - val_loss: 0.2484\n"
          ]
        }
      ],
      "source": [
        "# Fit (train) the model on the training data\n",
        "# - X_train: padded input sequences\n",
        "# - y_train_cat: one-hot encoded training labels\n",
        "# - validation_data: used to evaluate the model on unseen test data after each epoch\n",
        "# - batch_size: number of samples per gradient update\n",
        "# - epochs: number of complete passes through the training data\n",
        "history = model.fit(\n",
        "    X_train, y_train_cat,\n",
        "    validation_data=(X_test, y_test_cat),\n",
        "    batch_size=64,\n",
        "    epochs=10\n",
        ")\n"
      ]
    },
    {
      "cell_type": "code",
      "execution_count": 33,
      "metadata": {
        "colab": {
          "base_uri": "https://localhost:8080/"
        },
        "execution": {
          "iopub.execute_input": "2023-04-14T11:01:54.665082Z",
          "iopub.status.busy": "2023-04-14T11:01:54.664741Z",
          "iopub.status.idle": "2023-04-14T11:01:55.808409Z",
          "shell.execute_reply": "2023-04-14T11:01:55.806913Z",
          "shell.execute_reply.started": "2023-04-14T11:01:54.665048Z"
        },
        "id": "knO7mfHialrj",
        "outputId": "e730d241-df0c-40c9-8742-cf8f8535035f",
        "trusted": true
      },
      "outputs": [
        {
          "output_type": "stream",
          "name": "stdout",
          "text": [
            "\u001b[1m396/396\u001b[0m \u001b[32m━━━━━━━━━━━━━━━━━━━━\u001b[0m\u001b[37m\u001b[0m \u001b[1m5s\u001b[0m 13ms/step\n",
            "Classification Report:\n",
            "\n",
            "              precision    recall  f1-score   support\n",
            "\n",
            "           0       0.92      0.95      0.94      2151\n",
            "           1       0.91      0.92      0.92      2080\n",
            "           2       0.96      0.90      0.93      2094\n",
            "           3       0.95      0.98      0.96      2099\n",
            "           4       0.94      0.88      0.91      2064\n",
            "           5       0.95      0.99      0.97      2165\n",
            "\n",
            "    accuracy                           0.94     12653\n",
            "   macro avg       0.94      0.94      0.94     12653\n",
            "weighted avg       0.94      0.94      0.94     12653\n",
            "\n"
          ]
        }
      ],
      "source": [
        "from sklearn.metrics import classification_report, confusion_matrix\n",
        "import numpy as np\n",
        "import seaborn as sns\n",
        "import matplotlib.pyplot as plt\n",
        "\n",
        "# Step 1: Predict on the test set\n",
        "y_pred_probs = model.predict(X_test)              # Get predicted probabilities\n",
        "y_pred = np.argmax(y_pred_probs, axis=1)          # Get predicted class indices\n",
        "y_true = np.argmax(y_test_cat, axis=1)            # Get true class indices\n",
        "\n",
        "# Step 2: Print classification report\n",
        "print(\"Classification Report:\\n\")\n",
        "print(classification_report(y_true, y_pred))"
      ]
    },
    {
      "cell_type": "code",
      "execution_count": 35,
      "metadata": {
        "colab": {
          "base_uri": "https://localhost:8080/",
          "height": 564
        },
        "id": "pVf4UvBIrUmx",
        "outputId": "03628a08-b84d-490d-d7b5-749c55ecf719"
      },
      "outputs": [
        {
          "output_type": "display_data",
          "data": {
            "text/plain": [
              "<Figure size 800x600 with 2 Axes>"
            ],
            "image/png": "[encoded data removed]"
          },
          "metadata": {}
        }
      ],
      "source": [
        "\n",
        "cm = confusion_matrix(y_true, y_pred)             # Compute the confusion matrix\n",
        "plt.figure(figsize=(8, 6))                        # Set figure size\n",
        "sns.heatmap(cm, annot=True, fmt='d', cmap='Blues', cbar=True, square=True, linewidths=0.5)\n",
        "plt.title('Confusion Matrix')                     # Set plot title\n",
        "plt.xlabel('Predicted Label')                     # Label x-axis\n",
        "plt.ylabel('True Label')                          # Label y-axis\n",
        "plt.show()"
      ]
    },
    {
      "cell_type": "code",
      "execution_count": 36,
      "metadata": {
        "colab": {
          "base_uri": "https://localhost:8080/",
          "height": 472
        },
        "execution": {
          "iopub.execute_input": "2023-04-14T11:01:55.811548Z",
          "iopub.status.busy": "2023-04-14T11:01:55.811052Z",
          "iopub.status.idle": "2023-04-14T11:01:55.994478Z",
          "shell.execute_reply": "2023-04-14T11:01:55.993303Z",
          "shell.execute_reply.started": "2023-04-14T11:01:55.811506Z"
        },
        "id": "dyK7SU13alrk",
        "outputId": "6805e5df-c8d2-4e79-a4e2-66b8f650d7ce",
        "trusted": true
      },
      "outputs": [
        {
          "output_type": "display_data",
          "data": {
            "text/plain": [
              "<Figure size 640x480 with 1 Axes>"
            ],
            "image/png": "[encoded data removed]"
          },
          "metadata": {}
        }
      ],
      "source": [
        "# summarize history for accuracy\n",
        "plt.plot(history.history['accuracy'])\n",
        "plt.plot(history.history['val_accuracy'])\n",
        "plt.title('model accuracy')\n",
        "plt.ylabel('accuracy')\n",
        "plt.xlabel('epoch')\n",
        "plt.legend(['train', 'test'], loc='upper left')\n",
        "plt.show()"
      ]
    },
    {
      "cell_type": "code",
      "execution_count": 37,
      "metadata": {
        "colab": {
          "base_uri": "https://localhost:8080/",
          "height": 472
        },
        "execution": {
          "iopub.execute_input": "2023-04-14T11:01:55.996307Z",
          "iopub.status.busy": "2023-04-14T11:01:55.995984Z",
          "iopub.status.idle": "2023-04-14T11:01:56.17166Z",
          "shell.execute_reply": "2023-04-14T11:01:56.170417Z",
          "shell.execute_reply.started": "2023-04-14T11:01:55.996272Z"
        },
        "id": "WzeVqqvzalrl",
        "outputId": "d9c17542-c0b6-43b6-c057-c2cf6da458c8",
        "trusted": true
      },
      "outputs": [
        {
          "output_type": "display_data",
          "data": {
            "text/plain": [
              "<Figure size 640x480 with 1 Axes>"
            ],
            "image/png": "[encoded data removed]"
          },
          "metadata": {}
        }
      ],
      "source": [
        "# summarize history for loss\n",
        "plt.plot(history.history['loss'])\n",
        "plt.plot(history.history['val_loss'])\n",
        "plt.title('model loss')\n",
        "plt.ylabel('loss')\n",
        "plt.xlabel('epoch')\n",
        "plt.legend(['train', 'test'], loc='upper left')\n",
        "plt.show()"
      ]
    },
    {
      "cell_type": "code",
      "execution_count": 41,
      "metadata": {
        "colab": {
          "base_uri": "https://localhost:8080/"
        },
        "id": "uuemqNjLnmJa",
        "outputId": "5b98da1a-5246-4cf3-df27-afc9364f1e77"
      },
      "outputs": [
        {
          "output_type": "stream",
          "name": "stdout",
          "text": [
            "\u001b[1m1/1\u001b[0m \u001b[32m━━━━━━━━━━━━━━━━━━━━\u001b[0m\u001b[37m\u001b[0m \u001b[1m0s\u001b[0m 46ms/step\n",
            "Input: I can't wait to see my friends again, I'm so excited!\n",
            "Predicted Emotion: happy\n",
            "Confidence Scores: ['0.0024632558', '0.0289774369', '0.7873230577', '0.1762249321', '0.0007976022', '0.0042137862']\n",
            "--------------------------------------------------\n",
            "Input: I'm terrified about the future, it's all so uncertain.\n",
            "Predicted Emotion: fear\n",
            "Confidence Scores: ['0.0000025945', '0.9790837169', '0.0019920450', '0.0000467690', '0.0178940203', '0.0009809037']\n",
            "--------------------------------------------------\n",
            "Input: I feel completely heartbroken after what happened.\n",
            "Predicted Emotion: sadness\n",
            "Confidence Scores: ['0.0012430854', '0.0066209934', '0.0000000011', '0.0000000025', '0.9908917546', '0.0012441510']\n",
            "--------------------------------------------------\n",
            "Input: This is outrageous, how could they do this to me!\n",
            "Predicted Emotion: anger\n",
            "Confidence Scores: ['0.4419621527', '0.0866722241', '0.0535537489', '0.0551868565', '0.2422245443', '0.1204004288']\n",
            "--------------------------------------------------\n"
          ]
        }
      ],
      "source": [
        "from sklearn.preprocessing import LabelEncoder\n",
        "from tensorflow.keras.preprocessing.sequence import pad_sequences\n",
        "import numpy as np\n",
        "\n",
        "# New example sentences to classify\n",
        "example_texts = [\n",
        "    \"I can't wait to see my friends again, I'm so excited!\",  # Likely 'happy' or 'love'\n",
        "    \"I'm terrified about the future, it's all so uncertain.\",  # Likely 'fear'\n",
        "    \"I feel completely heartbroken after what happened.\",       # Likely 'sadness'\n",
        "    \"This is outrageous, how could they do this to me!\"         # Likely 'anger'\n",
        "]\n",
        "\n",
        "# Tokenize the input examples using the same tokenizer used during training\n",
        "example_seqs = token.texts_to_sequences(example_texts)\n",
        "\n",
        "# Pad the sequences to the same length as during training\n",
        "MAX_SEQUENCE_LENGTH = 30\n",
        "example_padded = pad_sequences(example_seqs, maxlen=MAX_SEQUENCE_LENGTH, padding='post')\n",
        "\n",
        "# Predict sentiment probabilities\n",
        "example_preds_probs = model.predict(example_padded)  # Shape: (n_samples, n_classes)\n",
        "\n",
        "# Get predicted class indices\n",
        "example_preds = np.argmax(example_preds_probs, axis=1)\n",
        "\n",
        "# Convert predicted indices back to sentiment labels\n",
        "predicted_labels = le.inverse_transform(example_preds)\n",
        "\n",
        "# Map indices to emotion labels\n",
        "emotion_map = {\n",
        "    0: 'anger',\n",
        "    1: 'fear',\n",
        "    2: 'happy',\n",
        "    3: 'love',\n",
        "    4: 'sadness',\n",
        "    5: 'surprise'\n",
        "}\n",
        "\n",
        "# Print results with probabilities in standard decimal notation (10 decimal places)\n",
        "for i, text in enumerate(example_texts):\n",
        "    predicted_emotion = emotion_map[example_preds[i]]\n",
        "\n",
        "    # Format each probability as a string with exactly 10 digits after the decimal\n",
        "    confidence_scores = [f\"{prob:.10f}\" for prob in example_preds_probs[i]]\n",
        "\n",
        "    print(f\"Input: {text}\")\n",
        "    print(f\"Predicted Emotion: {predicted_emotion}\")\n",
        "    print(f\"Confidence Scores: {confidence_scores}\")\n",
        "    print(\"-\" * 50)\n",
        "\n"
      ]
    },
    {
      "cell_type": "code",
      "execution_count": 43,
      "metadata": {
        "colab": {
          "base_uri": "https://localhost:8080/"
        },
        "id": "PkYJdB9zuIDm",
        "outputId": "f4772009-c51c-4770-9d9c-95f347c3bcbe"
      },
      "outputs": [
        {
          "output_type": "stream",
          "name": "stdout",
          "text": [
            "\u001b[1m1/1\u001b[0m \u001b[32m━━━━━━━━━━━━━━━━━━━━\u001b[0m\u001b[37m\u001b[0m \u001b[1m0s\u001b[0m 38ms/step\n",
            "Input: I just received some wonderful news! I got the job I applied for, and I feel so excited and thankful for this opportunity. It's a huge step forward in my career, and I can't wait to start this new chapter of my life.\n",
            "Predicted Emotion: happy\n",
            "Confidence Scores: ['0.0000043361', '0.0014152934', '0.9367918968', '0.0617637299', '0.0000004232', '0.0000243665']\n",
            "--------------------------------------------------\n",
            "Input: There's so much uncertainty in the world right now. I worry about my family and the future. The constant anxiety is affecting me, and I don't know what will happen next. I'm scared of what might come.\n",
            "Predicted Emotion: fear\n",
            "Confidence Scores: ['0.0065202080', '0.4807519019', '0.3753847182', '0.0608618483', '0.0452273153', '0.0312540643']\n",
            "--------------------------------------------------\n",
            "Input: I can't believe what they did! They betrayed my trust in the worst possible way. How could they do this to me? I'm furious and feel completely disrespected by their actions. I never expected this kind of treatment from them.\n",
            "Predicted Emotion: sadness\n",
            "Confidence Scores: ['0.2166765481', '0.0354751535', '0.0000528533', '0.0001209110', '0.7080099583', '0.0396646112']\n",
            "--------------------------------------------------\n"
          ]
        }
      ],
      "source": [
        "from sklearn.preprocessing import LabelEncoder\n",
        "from tensorflow.keras.preprocessing.sequence import pad_sequences\n",
        "import numpy as np\n",
        "\n",
        "# Four example paragraphs with different sentiments\n",
        "example_texts = [\n",
        "    \"I just received some wonderful news! I got the job I applied for, and I feel so excited and thankful for this opportunity. It's a huge step forward in my career, and I can't wait to start this new chapter of my life.\",  # Likely 'happy'\n",
        "\n",
        "    \"There's so much uncertainty in the world right now. I worry about my family and the future. The constant anxiety is affecting me, and I don't know what will happen next. I'm scared of what might come.\",  # Likely 'fear'\n",
        "\n",
        "    \"I can't believe what they did! They betrayed my trust in the worst possible way. How could they do this to me? I'm furious and feel completely disrespected by their actions. I never expected this kind of treatment from them.\",  # Likely 'anger'\n",
        "]\n",
        "\n",
        "# Tokenize the input examples (use the same tokenizer fitted on the training data)\n",
        "example_seqs = token.texts_to_sequences(example_texts)\n",
        "\n",
        "# Pad the sequences to ensure they match the input size used during training\n",
        "MAX_SEQUENCE_LENGTH = 30  # Same as used for training\n",
        "example_padded = pad_sequences(example_seqs, maxlen=MAX_SEQUENCE_LENGTH, padding='post')\n",
        "\n",
        "# Predict sentiment for the examples\n",
        "example_preds_probs = model.predict(example_padded)  # Get predicted probabilities\n",
        "example_preds = np.argmax(example_preds_probs, axis=1)  # Get predicted class indices\n",
        "\n",
        "# Convert predicted indices back to sentiment labels\n",
        "predicted_labels = le.inverse_transform(example_preds)\n",
        "\n",
        "# Sentiment classes (emotions) according to your original LabelEncoder\n",
        "emotion_map = {\n",
        "    0: 'anger',\n",
        "    1: 'fear',\n",
        "    2: 'happy',\n",
        "    3: 'love',\n",
        "    4: 'sadness',\n",
        "    5: 'surprise'\n",
        "}\n",
        "\n",
        "# Print results with probabilities in standard decimal notation (10 decimal places)\n",
        "for i, text in enumerate(example_texts):\n",
        "    predicted_emotion = emotion_map[example_preds[i]]\n",
        "\n",
        "    # Format each probability as a string with exactly 10 digits after the decimal\n",
        "    confidence_scores = [f\"{prob:.10f}\" for prob in example_preds_probs[i]]\n",
        "\n",
        "    print(f\"Input: {text}\")\n",
        "    print(f\"Predicted Emotion: {predicted_emotion}\")\n",
        "    print(f\"Confidence Scores: {confidence_scores}\")\n",
        "    print(\"-\" * 50)\n"
      ]
    },
    {
      "cell_type": "code",
      "source": [
        "from tensorflow.keras.models import save_model, load_model\n",
        "import pickle\n",
        "\n",
        "# Save the model\n",
        "model.save(\"emotion_model.h5\")\n",
        "\n",
        "# Save the tokenizer\n",
        "with open(\"tokenizer.pkl\", \"wb\") as f:\n",
        "    pickle.dump(token, f)\n",
        "\n",
        "# Save the label encoder\n",
        "with open(\"label_encoder.pkl\", \"wb\") as f:\n",
        "    pickle.dump(le, f)\n"
      ],
      "metadata": {
        "colab": {
          "base_uri": "https://localhost:8080/"
        },
        "id": "1nrbacijNGQk",
        "outputId": "16d1662a-fde7-4102-d4dd-72cf5df8f7e2"
      },
      "execution_count": 44,
      "outputs": [
        {
          "output_type": "stream",
          "name": "stderr",
          "text": [
            "WARNING:absl:You are saving your model as an HDF5 file via `model.save()` or `keras.saving.save_model(model)`. This file format is considered legacy. We recommend using instead the native Keras format, e.g. `model.save('my_model.keras')` or `keras.saving.save_model(model, 'my_model.keras')`. \n"
          ]
        }
      ]
    },
    {
      "cell_type": "code",
      "source": [
        "from tensorflow.keras.models import load_model\n",
        "from tensorflow.keras.preprocessing.sequence import pad_sequences\n",
        "import pickle\n",
        "import numpy as np\n",
        "\n",
        "# Load the model\n",
        "model = load_model(\"emotion_model.h5\")\n",
        "\n",
        "# Load tokenizer\n",
        "with open(\"tokenizer.pkl\", \"rb\") as f:\n",
        "    token = pickle.load(f)\n",
        "\n",
        "# Load label encoder\n",
        "with open(\"label_encoder.pkl\", \"rb\") as f:\n",
        "    le = pickle.load(f)\n",
        "\n",
        "# Define your new texts\n",
        "example_texts = [\n",
        "    \"I can't wait to see my friends again, I'm so excited!\",\n",
        "    \"I'm terrified about the future, it's all so uncertain.\",\n",
        "    \"I feel completely heartbroken after what happened.\",\n",
        "    \"This is outrageous, how could they do this to me!\"\n",
        "]\n",
        "\n",
        "# Preprocess: tokenize and pad\n",
        "MAX_SEQUENCE_LENGTH = 30\n",
        "example_seqs = token.texts_to_sequences(example_texts)\n",
        "example_padded = pad_sequences(example_seqs, maxlen=MAX_SEQUENCE_LENGTH, padding='post')\n",
        "\n",
        "# Predict\n",
        "example_preds_probs = model.predict(example_padded)\n",
        "example_preds = np.argmax(example_preds_probs, axis=1)\n",
        "predicted_labels = le.inverse_transform(example_preds)\n",
        "\n",
        "# Print results with probabilities in standard decimal notation (10 decimal places)\n",
        "for i, text in enumerate(example_texts):\n",
        "    predicted_emotion = emotion_map[example_preds[i]]\n",
        "\n",
        "    # Format each probability as a string with exactly 10 digits after the decimal\n",
        "    confidence_scores = [f\"{prob:.10f}\" for prob in example_preds_probs[i]]\n",
        "\n",
        "    print(f\"Input: {text}\")\n",
        "    print(f\"Predicted Emotion: {predicted_emotion}\")\n",
        "    print(f\"Confidence Scores: {confidence_scores}\")\n",
        "    print(\"-\" * 50)\n"
      ],
      "metadata": {
        "colab": {
          "base_uri": "https://localhost:8080/"
        },
        "id": "SCFusJjsNGT6",
        "outputId": "66e1289d-02b6-4222-9e8c-4bb9adc89a55"
      },
      "execution_count": 46,
      "outputs": [
        {
          "output_type": "stream",
          "name": "stderr",
          "text": [
            "WARNING:absl:Compiled the loaded model, but the compiled metrics have yet to be built. `model.compile_metrics` will be empty until you train or evaluate the model.\n"
          ]
        },
        {
          "output_type": "stream",
          "name": "stdout",
          "text": [
            "\u001b[1m1/1\u001b[0m \u001b[32m━━━━━━━━━━━━━━━━━━━━\u001b[0m\u001b[37m\u001b[0m \u001b[1m0s\u001b[0m 92ms/step\n",
            "Input: I can't wait to see my friends again, I'm so excited!\n",
            "Predicted Emotion: happy\n",
            "Confidence Scores: ['0.0024632558', '0.0289774369', '0.7873230577', '0.1762249321', '0.0007976022', '0.0042137862']\n",
            "--------------------------------------------------\n",
            "Input: I'm terrified about the future, it's all so uncertain.\n",
            "Predicted Emotion: fear\n",
            "Confidence Scores: ['0.0000025945', '0.9790837169', '0.0019920450', '0.0000467690', '0.0178940203', '0.0009809037']\n",
            "--------------------------------------------------\n",
            "Input: I feel completely heartbroken after what happened.\n",
            "Predicted Emotion: sadness\n",
            "Confidence Scores: ['0.0012430854', '0.0066209934', '0.0000000011', '0.0000000025', '0.9908917546', '0.0012441510']\n",
            "--------------------------------------------------\n",
            "Input: This is outrageous, how could they do this to me!\n",
            "Predicted Emotion: anger\n",
            "Confidence Scores: ['0.4419621527', '0.0866722241', '0.0535537489', '0.0551868565', '0.2422245443', '0.1204004288']\n",
            "--------------------------------------------------\n"
          ]
        }
      ]
    },
    {
      "cell_type": "code",
      "source": [],
      "metadata": {
        "id": "Zm8Lg_S4UR9r"
      },
      "execution_count": null,
      "outputs": []
    }
  ],
  "metadata": {
    "accelerator": "TPU",
    "colab": {
      "gpuType": "V28",
      "provenance": []
    },
    "kaggle": {
      "accelerator": "none",
      "dataSources": [
        {
          "datasetId": 622510,
          "sourceId": 1192499,
          "sourceType": "datasetVersion"
        }
      ],
      "dockerImageVersionId": 30407,
      "isGpuEnabled": false,
      "isInternetEnabled": false,
      "language": "python",
      "sourceType": "notebook"
    },
    "kernelspec": {
      "display_name": "Python 3",
      "name": "python3"
    },
    "language_info": {
      "codemirror_mode": {
        "name": "ipython",
        "version": 3
      },
      "file_extension": ".py",
      "mimetype": "text/x-python",
      "name": "python",
      "nbconvert_exporter": "python",
      "pygments_lexer": "ipython3",
      "version": "3.6.4"
    }
  },
  "nbformat": 4,
  "nbformat_minor": 0
}